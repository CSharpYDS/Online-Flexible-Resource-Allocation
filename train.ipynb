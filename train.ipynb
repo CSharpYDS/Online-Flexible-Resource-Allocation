{
 "cells": [
  {
   "cell_type": "code",
   "execution_count": null,
   "metadata": {
    "collapsed": true
   },
   "outputs": [],
   "source": [
    "def train():\n",
    "    \n",
    "    for e in range(epi):\n",
    "        done = False\n",
    "        total_rewards = 0\n",
    "        # State: Dict[Server, List[Task]] where Server is array format and Task is array format\n",
    "        while not done:\n",
    "            if env.get_stage() is EnvStage.Auction:\n",
    "                auction_task = env.get_auction_obs()\n",
    "                server_state = {server: task_pricing_agents[server].get_obs(auction_task, tasks, server)\n",
    "                              for server, tasks in state.items()}\n",
    "                server_prices =  {server: task_pricing_agents[server].price(server_state[server])\n",
    "                                  for server in state.keys()}\n",
    "                \n",
    "                next_state, reward, done, info = env.auction_step(server_prices)\n",
    "                \n",
    "                total_rewards += reward\n",
    "            elif env.get_stage() is EnvStage.ResourceAllocation:\n",
    "                server_tasks = env.get_server_tasks()\n",
    "                server_task_weighting = {\n",
    "                    server: {\n",
    "                        task: resource_weighting_agents[server].weight(server, task, [_task for _task in tasks if _task is not task])\n",
    "                        for task in tasks\n",
    "                    } for server, tasks in server_tasks.items()\n",
    "                }\n",
    "                \n",
    "                next_state, rewards, done, info = env.resource_allocation_step(server_task_weighting)\n",
    "                for server, tasks in next_state:\n",
    "                    for task in tasks:\n",
    "                        resource_weighting_agents[server].update_trajectory(server, task, [_task for _task in tasks if _task is not task], rewards[task])\n",
    "                        "
   ]
  }
 ],
 "metadata": {
  "kernelspec": {
   "display_name": "Python 3",
   "language": "python",
   "name": "python3"
  },
  "language_info": {
   "codemirror_mode": {
    "name": "ipython",
    "version": 2
   },
   "file_extension": ".py",
   "mimetype": "text/x-python",
   "name": "python",
   "nbconvert_exporter": "python",
   "pygments_lexer": "ipython2",
   "version": "2.7.6"
  },
  "pycharm": {
   "stem_cell": {
    "cell_type": "raw",
    "source": [],
    "metadata": {
     "collapsed": false
    }
   }
  }
 },
 "nbformat": 4,
 "nbformat_minor": 0
}