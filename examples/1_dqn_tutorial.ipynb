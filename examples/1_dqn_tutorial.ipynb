{
 "cells": [
  {
   "cell_type": "markdown",
   "metadata": {
    "colab_type": "text",
    "id": "klGNgWREsvQv"
   },
   "source": [
    "##### Copyright 2018 The TF-Agents Authors."
   ]
  },
  {
   "cell_type": "code",
   "execution_count": 1,
   "metadata": {
    "colab": {},
    "colab_type": "code",
    "id": "nQnmcm0oI1Q-"
   },
   "outputs": [],
   "source": [
    "#@title Licensed under the Apache License, Version 2.0 (the \"License\");\n",
    "# you may not use this file except in compliance with the License.\n",
    "# You may obtain a copy of the License at\n",
    "#\n",
    "# https://www.apache.org/licenses/LICENSE-2.0\n",
    "#\n",
    "# Unless required by applicable law or agreed to in writing, software\n",
    "# distributed under the License is distributed on an \"AS IS\" BASIS,\n",
    "# WITHOUT WARRANTIES OR CONDITIONS OF ANY KIND, either express or implied.\n",
    "# See the License for the specific language governing permissions and\n",
    "# limitations under the License."
   ]
  },
  {
   "cell_type": "markdown",
   "metadata": {
    "colab_type": "text",
    "id": "pmDI-h7cI0tI"
   },
   "source": [
    "# Train a Deep Q Network with TF-Agents"
   ]
  },
  {
   "cell_type": "markdown",
   "metadata": {
    "colab_type": "text",
    "id": "lsaQlK8fFQqH"
   },
   "source": [
    "### Get Started\n",
    "<table class=\"tfo-notebook-buttons\" align=\"left\">\n",
    "  <td>\n",
    "    <a target=\"_blank\" href=\"https://colab.research.google.com/github/tensorflow/agents/blob/master/docs/tutorials/1_dqn_tutorial.ipynb\"><img src=\"https://www.tensorflow.org/images/colab_logo_32px.png\" />Run in Google Colab</a>\n",
    "  </td>\n",
    "  <td>\n",
    "    <a target=\"_blank\" href=\"https://github.com/tensorflow/agents/blob/master/docs/tutorials/1_dqn_tutorial.ipynb\"><img src=\"https://www.tensorflow.org/images/GitHub-Mark-32px.png\" />View source on GitHub</a>\n",
    "  </td>\n",
    "</table>\n"
   ]
  },
  {
   "cell_type": "markdown",
   "metadata": {
    "colab_type": "text",
    "id": "cKOCZlhUgXVK"
   },
   "source": [
    "This example shows how to train a [DQN (Deep Q Networks)](https://storage.googleapis.com/deepmind-media/dqn/DQNNaturePaper.pdf)  agent on the Cartpole environment using the TF-Agents library.\n",
    "\n",
    "![Cartpole environment](https://raw.githubusercontent.com/tensorflow/agents/master/docs/tutorials/images/cartpole.png)\n",
    "\n",
    "It will walk you through all the components in a Reinforcement Learning (RL) pipeline for training, evaluation and data collection.\n",
    "\n",
    "\n",
    "To run this code live, click the 'Run in Google Colab' link above.\n"
   ]
  },
  {
   "cell_type": "markdown",
   "metadata": {
    "colab_type": "text",
    "id": "1u9QVVsShC9X"
   },
   "source": [
    "## Setup"
   ]
  },
  {
   "cell_type": "code",
   "execution_count": 2,
   "metadata": {
    "colab": {},
    "colab_type": "code",
    "id": "sMitx5qSgJk1"
   },
   "outputs": [],
   "source": [
    "from __future__ import absolute_import, division, print_function\n",
    "\n",
    "import base64\n",
    "import imageio\n",
    "import IPython\n",
    "import matplotlib\n",
    "import matplotlib.pyplot as plt\n",
    "import PIL.Image\n",
    "import pyvirtualdisplay\n",
    "\n",
    "import tensorflow as tf\n",
    "\n",
    "from tf_agents.agents.dqn import dqn_agent\n",
    "from tf_agents.drivers import dynamic_step_driver\n",
    "from tf_agents.environments import suite_gym\n",
    "from tf_agents.environments import tf_py_environment\n",
    "from tf_agents.eval import metric_utils\n",
    "from tf_agents.metrics import tf_metrics\n",
    "from tf_agents.networks import q_network\n",
    "from tf_agents.policies import random_tf_policy\n",
    "from tf_agents.replay_buffers import tf_uniform_replay_buffer\n",
    "from tf_agents.trajectories import trajectory\n",
    "from tf_agents.utils import common\n",
    "\n",
    "tf.compat.v1.enable_v2_behavior()\n",
    "\n",
    "# Set up a virtual display for rendering OpenAI gym environments.\n",
    "# display = pyvirtualdisplay.Display(visible=0, size=(1400, 900)).start()"
   ]
  },
  {
   "cell_type": "code",
   "execution_count": 3,
   "metadata": {
    "colab": {},
    "colab_type": "code",
    "id": "NspmzG4nP3b9"
   },
   "outputs": [
    {
     "data": {
      "text/plain": [
       "'2.1.0'"
      ]
     },
     "execution_count": 3,
     "metadata": {},
     "output_type": "execute_result"
    }
   ],
   "source": [
    "tf.version.VERSION"
   ]
  },
  {
   "cell_type": "markdown",
   "metadata": {
    "colab_type": "text",
    "id": "LmC0NDhdLIKY"
   },
   "source": [
    "## Hyperparameters"
   ]
  },
  {
   "cell_type": "code",
   "execution_count": 4,
   "metadata": {
    "colab": {},
    "colab_type": "code",
    "id": "HC1kNrOsLSIZ"
   },
   "outputs": [],
   "source": [
    "num_iterations = 20000 \n",
    "\n",
    "initial_collect_steps = 1000 \n",
    "collect_steps_per_iteration = 1 \n",
    "replay_buffer_max_length = 100000 \n",
    "\n",
    "batch_size = 64 \n",
    "learning_rate = 1e-3 \n",
    "log_interval = 200 \n",
    "\n",
    "num_eval_episodes = 10 \n",
    "eval_interval = 1000 "
   ]
  },
  {
   "cell_type": "markdown",
   "metadata": {
    "colab_type": "text",
    "id": "VMsJC3DEgI0x"
   },
   "source": [
    "## Environment\n",
    "\n",
    "In Reinforcement Learning (RL), an environment represents the task or problem to be solved. Standard environments can be created in TF-Agents using `tf_agents.environments` suites. TF-Agents has suites for loading environments from sources such as the OpenAI Gym, Atari, and DM Control.\n",
    "\n",
    "Load the CartPole environment from the OpenAI Gym suite. "
   ]
  },
  {
   "cell_type": "code",
   "execution_count": 5,
   "metadata": {
    "colab": {},
    "colab_type": "code",
    "id": "pYEz-S9gEv2-"
   },
   "outputs": [],
   "source": [
    "env_name = 'CartPole-v0'\n",
    "env = suite_gym.load(env_name)"
   ]
  },
  {
   "cell_type": "markdown",
   "metadata": {
    "colab_type": "text",
    "id": "IIHYVBkuvPNw"
   },
   "source": [
    "You can render this environment to see how it looks. A free-swinging pole is attached to a cart.  The goal is to move the cart right or left in order to keep the pole pointing up."
   ]
  },
  {
   "cell_type": "code",
   "execution_count": 6,
   "metadata": {
    "colab": {},
    "colab_type": "code",
    "id": "RlO7WIQHu_7D"
   },
   "outputs": [
    {
     "data": {
      "text/plain": [
       "TimeStep(step_type=array(0), reward=array(0., dtype=float32), discount=array(1., dtype=float32), observation=array([-0.04302711,  0.04953111,  0.03815157,  0.02815243], dtype=float32))"
      ]
     },
     "execution_count": 6,
     "metadata": {},
     "output_type": "execute_result"
    }
   ],
   "source": [
    "#@test {\"skip\": true}\n",
    "env.reset()\n",
    "# PIL.Image.fromarray(env.render())"
   ]
  },
  {
   "cell_type": "markdown",
   "metadata": {
    "colab_type": "text",
    "id": "B9_lskPOey18"
   },
   "source": [
    "The `environment.step` method takes an `action` in the environment and returns a `TimeStep` tuple containing the next observation of the environment and the reward for the action.\n",
    "\n",
    "The `time_step_spec()` method returns the specification for the `TimeStep` tuple. Its `observation` attribute shows the shape of observations, the data types, and the ranges of allowed values. The `reward` attribute shows the same details for the reward.\n",
    "\n"
   ]
  },
  {
   "cell_type": "code",
   "execution_count": 7,
   "metadata": {
    "colab": {},
    "colab_type": "code",
    "id": "exDv57iHfwQV"
   },
   "outputs": [
    {
     "name": "stdout",
     "output_type": "stream",
     "text": [
      "Observation Spec:\n",
      "BoundedArraySpec(shape=(4,), dtype=dtype('float32'), name='observation', minimum=[-4.8000002e+00 -3.4028235e+38 -4.1887903e-01 -3.4028235e+38], maximum=[4.8000002e+00 3.4028235e+38 4.1887903e-01 3.4028235e+38])\n"
     ]
    }
   ],
   "source": [
    "print('Observation Spec:')\n",
    "print(env.time_step_spec().observation)"
   ]
  },
  {
   "cell_type": "code",
   "execution_count": 8,
   "metadata": {
    "colab": {},
    "colab_type": "code",
    "id": "UxiSyCbBUQPi"
   },
   "outputs": [
    {
     "name": "stdout",
     "output_type": "stream",
     "text": [
      "Reward Spec:\n",
      "ArraySpec(shape=(), dtype=dtype('float32'), name='reward')\n"
     ]
    }
   ],
   "source": [
    "print('Reward Spec:')\n",
    "print(env.time_step_spec().reward)"
   ]
  },
  {
   "cell_type": "markdown",
   "metadata": {
    "colab_type": "text",
    "id": "b_lHcIcqUaqB"
   },
   "source": [
    "The `action_spec()` method returns the shape, data types, and allowed values of valid actions."
   ]
  },
  {
   "cell_type": "code",
   "execution_count": 9,
   "metadata": {
    "colab": {},
    "colab_type": "code",
    "id": "bttJ4uxZUQBr"
   },
   "outputs": [
    {
     "name": "stdout",
     "output_type": "stream",
     "text": [
      "Action Spec:\n",
      "BoundedArraySpec(shape=(), dtype=dtype('int64'), name='action', minimum=0, maximum=1)\n"
     ]
    }
   ],
   "source": [
    "print('Action Spec:')\n",
    "print(env.action_spec())"
   ]
  },
  {
   "cell_type": "markdown",
   "metadata": {
    "colab_type": "text",
    "id": "eJCgJnx3g0yY"
   },
   "source": [
    "In the Cartpole environment:\n",
    "\n",
    "-   `observation` is an array of 4 floats: \n",
    "    -   the position and velocity of the cart\n",
    "    -   the angular position and velocity of the pole \n",
    "-   `reward` is a scalar float value\n",
    "-   `action` is a scalar integer with only two possible values:\n",
    "    -   `0` — \"move left\"\n",
    "    -   `1` — \"move right\"\n"
   ]
  },
  {
   "cell_type": "code",
   "execution_count": 10,
   "metadata": {
    "colab": {},
    "colab_type": "code",
    "id": "V2UGR5t_iZX-"
   },
   "outputs": [
    {
     "name": "stdout",
     "output_type": "stream",
     "text": [
      "Time step:\n",
      "TimeStep(step_type=array(0), reward=array(0., dtype=float32), discount=array(1., dtype=float32), observation=array([-0.00709915,  0.00318878,  0.02459618, -0.01214146], dtype=float32))\n",
      "Next time step:\n",
      "TimeStep(step_type=array(1), reward=array(1., dtype=float32), discount=array(1., dtype=float32), observation=array([-0.00703537,  0.19794951,  0.02435335, -0.29696366], dtype=float32))\n"
     ]
    }
   ],
   "source": [
    "time_step = env.reset()\n",
    "print('Time step:')\n",
    "print(time_step)\n",
    "\n",
    "action = 1\n",
    "\n",
    "next_time_step = env.step(action)\n",
    "print('Next time step:')\n",
    "print(next_time_step)"
   ]
  },
  {
   "cell_type": "markdown",
   "metadata": {
    "colab_type": "text",
    "id": "4JSc9GviWUBK"
   },
   "source": [
    "Usually two environments are instantiated: one for training and one for evaluation. "
   ]
  },
  {
   "cell_type": "code",
   "execution_count": 11,
   "metadata": {
    "colab": {},
    "colab_type": "code",
    "id": "N7brXNIGWXjC"
   },
   "outputs": [],
   "source": [
    "train_py_env = suite_gym.load(env_name)\n",
    "eval_py_env = suite_gym.load(env_name)"
   ]
  },
  {
   "cell_type": "markdown",
   "metadata": {
    "colab_type": "text",
    "id": "zuUqXAVmecTU"
   },
   "source": [
    "The Cartpole environment, like most environments, is written in pure Python. This is converted to TensorFlow using the `TFPyEnvironment` wrapper.\n",
    "\n",
    "The original environment's API uses Numpy arrays. The `TFPyEnvironment` converts these to `Tensors` to make it compatible with Tensorflow agents and policies.\n"
   ]
  },
  {
   "cell_type": "code",
   "execution_count": 12,
   "metadata": {
    "colab": {},
    "colab_type": "code",
    "id": "Xp-Y4mD6eDhF"
   },
   "outputs": [],
   "source": [
    "train_env = tf_py_environment.TFPyEnvironment(train_py_env)\n",
    "eval_env = tf_py_environment.TFPyEnvironment(eval_py_env)"
   ]
  },
  {
   "cell_type": "markdown",
   "metadata": {
    "colab_type": "text",
    "id": "E9lW_OZYFR8A"
   },
   "source": [
    "## Agent\n",
    "\n",
    "The algorithm used to solve an RL problem is represented by an `Agent`. TF-Agents provides standard implementations of a variety of `Agents`, including:\n",
    "\n",
    "-   [DQN](https://storage.googleapis.com/deepmind-media/dqn/DQNNaturePaper.pdf) (used in this tutorial)\n",
    "-   [REINFORCE](http://www-anw.cs.umass.edu/~barto/courses/cs687/williams92simple.pdf)\n",
    "-   [DDPG](https://arxiv.org/pdf/1509.02971.pdf)\n",
    "-   [TD3](https://arxiv.org/pdf/1802.09477.pdf)\n",
    "-   [PPO](https://arxiv.org/abs/1707.06347)\n",
    "-   [SAC](https://arxiv.org/abs/1801.01290).\n",
    "\n",
    "The DQN agent can be used in any environment which has a discrete action space.\n",
    "\n",
    "At the heart of a DQN Agent is a `QNetwork`, a neural network model that can learn to predict `QValues` (expected returns) for all actions, given an observation from the environment.\n",
    "\n",
    "Use `tf_agents.networks.q_network` to create a `QNetwork`, passing in the `observation_spec`, `action_spec`, and a tuple describing the number and size of the model's hidden layers.\n",
    "\n"
   ]
  },
  {
   "cell_type": "code",
   "execution_count": 13,
   "metadata": {
    "colab": {},
    "colab_type": "code",
    "id": "TgkdEPg_muzV"
   },
   "outputs": [],
   "source": [
    "fc_layer_params = (100,)\n",
    "\n",
    "q_net = q_network.QNetwork(\n",
    "    train_env.observation_spec(),\n",
    "    train_env.action_spec(),\n",
    "    fc_layer_params=fc_layer_params)"
   ]
  },
  {
   "cell_type": "markdown",
   "metadata": {
    "colab_type": "text",
    "id": "z62u55hSmviJ"
   },
   "source": [
    "Now use `tf_agents.agents.dqn.dqn_agent` to instantiate a `DqnAgent`. In addition to the `time_step_spec`, `action_spec` and the QNetwork, the agent constructor also requires an optimizer (in this case, `AdamOptimizer`), a loss function, and an integer step counter."
   ]
  },
  {
   "cell_type": "code",
   "execution_count": 14,
   "metadata": {
    "colab": {},
    "colab_type": "code",
    "id": "jbY4yrjTEyc9"
   },
   "outputs": [],
   "source": [
    "optimizer = tf.compat.v1.train.AdamOptimizer(learning_rate=learning_rate)\n",
    "\n",
    "train_step_counter = tf.Variable(0)\n",
    "\n",
    "agent = dqn_agent.DqnAgent(\n",
    "    train_env.time_step_spec(),\n",
    "    train_env.action_spec(),\n",
    "    q_network=q_net,\n",
    "    optimizer=optimizer,\n",
    "    td_errors_loss_fn=common.element_wise_squared_loss,\n",
    "    train_step_counter=train_step_counter)\n",
    "\n",
    "agent.initialize()"
   ]
  },
  {
   "cell_type": "markdown",
   "metadata": {
    "colab_type": "text",
    "id": "I0KLrEPwkn5x"
   },
   "source": [
    "## Policies\n",
    "\n",
    "A policy defines the way an agent acts in an environment. Typically, the goal of reinforcement learning is to train the underlying model until the policy produces the desired outcome.\n",
    "\n",
    "In this tutorial:\n",
    "\n",
    "-   The desired outcome is keeping the pole balanced upright over the cart.\n",
    "-   The policy returns an action (left or right) for each `time_step` observation.\n",
    "\n",
    "Agents contain two policies: \n",
    "\n",
    "-   `agent.policy` — The main policy that is used for evaluation and deployment.\n",
    "-   `agent.collect_policy` — A second policy that is used for data collection.\n",
    "\n",
    "\n",
    "\n",
    "\n",
    "\n",
    "\n",
    "\n",
    "\n"
   ]
  },
  {
   "cell_type": "code",
   "execution_count": 15,
   "metadata": {
    "colab": {},
    "colab_type": "code",
    "id": "BwY7StuMkuV4"
   },
   "outputs": [],
   "source": [
    "eval_policy = agent.policy\n",
    "collect_policy = agent.collect_policy"
   ]
  },
  {
   "cell_type": "markdown",
   "metadata": {
    "colab_type": "text",
    "id": "2Qs1Fl3dV0ae"
   },
   "source": [
    "Policies can be created independently of agents. For example, use `tf_agents.policies.random_tf_policy` to create a policy which will randomly select an action for each `time_step`."
   ]
  },
  {
   "cell_type": "code",
   "execution_count": 16,
   "metadata": {
    "colab": {},
    "colab_type": "code",
    "id": "HE37-UCIrE69"
   },
   "outputs": [],
   "source": [
    "random_policy = random_tf_policy.RandomTFPolicy(train_env.time_step_spec(),\n",
    "                                                train_env.action_spec())"
   ]
  },
  {
   "cell_type": "markdown",
   "metadata": {
    "colab_type": "text",
    "id": "dOlnlRRsUbxP"
   },
   "source": [
    "To get an action from a policy, call the `policy.action(time_step)` method. The `time_step` contains the observation from the environment. This method returns a `PolicyStep`, which is a named tuple with three components:\n",
    "\n",
    "-   `action` — the action to be taken (in this case, `0` or `1`)\n",
    "-   `state` — used for stateful (that is, RNN-based) policies\n",
    "-   `info` — auxiliary data, such as log probabilities of actions"
   ]
  },
  {
   "cell_type": "code",
   "execution_count": 17,
   "metadata": {
    "colab": {},
    "colab_type": "code",
    "id": "5gCcpXswVAxk"
   },
   "outputs": [],
   "source": [
    "example_environment = tf_py_environment.TFPyEnvironment(suite_gym.load('CartPole-v0'))"
   ]
  },
  {
   "cell_type": "code",
   "execution_count": 18,
   "metadata": {
    "colab": {},
    "colab_type": "code",
    "id": "D4DHZtq3Ndis"
   },
   "outputs": [],
   "source": [
    "time_step = example_environment.reset()"
   ]
  },
  {
   "cell_type": "code",
   "execution_count": 19,
   "metadata": {
    "colab": {},
    "colab_type": "code",
    "id": "PRFqAUzpNaAW"
   },
   "outputs": [
    {
     "data": {
      "text/plain": [
       "PolicyStep(action=<tf.Tensor: shape=(1,), dtype=int64, numpy=array([1], dtype=int64)>, state=(), info=())"
      ]
     },
     "execution_count": 19,
     "metadata": {},
     "output_type": "execute_result"
    }
   ],
   "source": [
    "random_policy.action(time_step)"
   ]
  },
  {
   "cell_type": "markdown",
   "metadata": {
    "colab_type": "text",
    "id": "94rCXQtbUbXv"
   },
   "source": [
    "## Metrics and Evaluation\n",
    "\n",
    "The most common metric used to evaluate a policy is the average return. The return is the sum of rewards obtained while running a policy in an environment for an episode. Several episodes are run, creating an average return.\n",
    "\n",
    "The following function computes the average return of a policy, given the policy, environment, and a number of episodes.\n"
   ]
  },
  {
   "cell_type": "code",
   "execution_count": 20,
   "metadata": {
    "colab": {},
    "colab_type": "code",
    "id": "bitzHo5_UbXy"
   },
   "outputs": [],
   "source": [
    "#@test {\"skip\": true}\n",
    "def compute_avg_return(environment, policy, num_episodes=10):\n",
    "\n",
    "  total_return = 0.0\n",
    "  for _ in range(num_episodes):\n",
    "\n",
    "    time_step = environment.reset()\n",
    "    episode_return = 0.0\n",
    "\n",
    "    while not time_step.is_last():\n",
    "      action_step = policy.action(time_step)\n",
    "      time_step = environment.step(action_step.action)\n",
    "      episode_return += time_step.reward\n",
    "    total_return += episode_return\n",
    "\n",
    "  avg_return = total_return / num_episodes\n",
    "  return avg_return.numpy()[0]\n",
    "\n",
    "\n",
    "# See also the metrics module for standard implementations of different metrics.\n",
    "# https://github.com/tensorflow/agents/tree/master/tf_agents/metrics"
   ]
  },
  {
   "cell_type": "markdown",
   "metadata": {
    "colab_type": "text",
    "id": "_snCVvq5Z8lJ"
   },
   "source": [
    "Running this computation on the `random_policy` shows a baseline performance in the environment."
   ]
  },
  {
   "cell_type": "code",
   "execution_count": 21,
   "metadata": {
    "colab": {},
    "colab_type": "code",
    "id": "9bgU6Q6BZ8Bp"
   },
   "outputs": [
    {
     "data": {
      "text/plain": [
       "24.0"
      ]
     },
     "execution_count": 21,
     "metadata": {},
     "output_type": "execute_result"
    }
   ],
   "source": [
    "compute_avg_return(eval_env, random_policy, num_eval_episodes)"
   ]
  },
  {
   "cell_type": "markdown",
   "metadata": {
    "colab_type": "text",
    "id": "NLva6g2jdWgr"
   },
   "source": [
    "## Replay Buffer\n",
    "\n",
    "The replay buffer keeps track of data collected from the environment. This tutorial uses `tf_agents.replay_buffers.tf_uniform_replay_buffer.TFUniformReplayBuffer`, as it is the most common. \n",
    "\n",
    "The constructor requires the specs for the data it will be collecting. This is available from the agent using the `collect_data_spec` method. The batch size and maximum buffer length are also required.\n",
    "\n"
   ]
  },
  {
   "cell_type": "code",
   "execution_count": 22,
   "metadata": {
    "colab": {},
    "colab_type": "code",
    "id": "vX2zGUWJGWAl"
   },
   "outputs": [],
   "source": [
    "replay_buffer = tf_uniform_replay_buffer.TFUniformReplayBuffer(\n",
    "    data_spec=agent.collect_data_spec,\n",
    "    batch_size=train_env.batch_size,\n",
    "    max_length=replay_buffer_max_length)"
   ]
  },
  {
   "cell_type": "markdown",
   "metadata": {
    "colab_type": "text",
    "id": "ZGNTDJpZs4NN"
   },
   "source": [
    "For most agents, `collect_data_spec` is a named tuple called `Trajectory`, containing the specs for observations, actions, rewards, and other items."
   ]
  },
  {
   "cell_type": "code",
   "execution_count": 23,
   "metadata": {
    "colab": {},
    "colab_type": "code",
    "id": "_IZ-3HcqgE1z"
   },
   "outputs": [
    {
     "data": {
      "text/plain": [
       "Trajectory(step_type=TensorSpec(shape=(), dtype=tf.int32, name='step_type'), observation=BoundedTensorSpec(shape=(4,), dtype=tf.float32, name='observation', minimum=array([-4.8000002e+00, -3.4028235e+38, -4.1887903e-01, -3.4028235e+38],\n",
       "      dtype=float32), maximum=array([4.8000002e+00, 3.4028235e+38, 4.1887903e-01, 3.4028235e+38],\n",
       "      dtype=float32)), action=BoundedTensorSpec(shape=(), dtype=tf.int64, name='action', minimum=array(0, dtype=int64), maximum=array(1, dtype=int64)), policy_info=(), next_step_type=TensorSpec(shape=(), dtype=tf.int32, name='step_type'), reward=TensorSpec(shape=(), dtype=tf.float32, name='reward'), discount=BoundedTensorSpec(shape=(), dtype=tf.float32, name='discount', minimum=array(0., dtype=float32), maximum=array(1., dtype=float32)))"
      ]
     },
     "execution_count": 23,
     "metadata": {},
     "output_type": "execute_result"
    }
   ],
   "source": [
    "agent.collect_data_spec"
   ]
  },
  {
   "cell_type": "code",
   "execution_count": 24,
   "metadata": {
    "colab": {},
    "colab_type": "code",
    "id": "sy6g1tGcfRlw"
   },
   "outputs": [
    {
     "data": {
      "text/plain": [
       "('step_type',\n",
       " 'observation',\n",
       " 'action',\n",
       " 'policy_info',\n",
       " 'next_step_type',\n",
       " 'reward',\n",
       " 'discount')"
      ]
     },
     "execution_count": 24,
     "metadata": {},
     "output_type": "execute_result"
    }
   ],
   "source": [
    "agent.collect_data_spec._fields"
   ]
  },
  {
   "cell_type": "markdown",
   "metadata": {
    "colab_type": "text",
    "id": "rVD5nQ9ZGo8_"
   },
   "source": [
    "## Data Collection\n",
    "\n",
    "Now execute the random policy in the environment for a few steps, recording the data in the replay buffer."
   ]
  },
  {
   "cell_type": "code",
   "execution_count": 25,
   "metadata": {
    "colab": {},
    "colab_type": "code",
    "id": "wr1KSAEGG4h9"
   },
   "outputs": [],
   "source": [
    "#@test {\"skip\": true}\n",
    "def collect_step(environment, policy, buffer):\n",
    "  time_step = environment.current_time_step()\n",
    "  action_step = policy.action(time_step)\n",
    "  next_time_step = environment.step(action_step.action)\n",
    "  traj = trajectory.from_transition(time_step, action_step, next_time_step)\n",
    "\n",
    "  # Add trajectory to the replay buffer\n",
    "  buffer.add_batch(traj)\n",
    "\n",
    "def collect_data(env, policy, buffer, steps):\n",
    "  for _ in range(steps):\n",
    "    collect_step(env, policy, buffer)\n",
    "\n",
    "collect_data(train_env, random_policy, replay_buffer, steps=100)\n",
    "\n",
    "# This loop is so common in RL, that we provide standard implementations. \n",
    "# For more details see the drivers module.\n",
    "# https://github.com/tensorflow/agents/blob/master/tf_agents/docs/python/tf_agents/drivers.md"
   ]
  },
  {
   "cell_type": "markdown",
   "metadata": {
    "colab_type": "text",
    "id": "84z5pQJdoKxo"
   },
   "source": [
    "The replay buffer is now a collection of Trajectories."
   ]
  },
  {
   "cell_type": "code",
   "execution_count": 26,
   "metadata": {
    "colab": {},
    "colab_type": "code",
    "id": "4wZnLu2ViO4E"
   },
   "outputs": [],
   "source": [
    "# For the curious:\n",
    "# Uncomment to peel one of these off and inspect it.\n",
    "# iter(replay_buffer.as_dataset()).next()"
   ]
  },
  {
   "cell_type": "markdown",
   "metadata": {
    "colab_type": "text",
    "id": "TujU-PMUsKjS"
   },
   "source": [
    "The agent needs access to the replay buffer. This is provided by creating an iterable `tf.data.Dataset` pipeline which will feed data to the agent.\n",
    "\n",
    "Each row of the replay buffer only stores a single observation step. But since the DQN Agent needs both the current and next observation to compute the loss, the dataset pipeline will sample two adjacent rows for each item in the batch (`num_steps=2`).\n",
    "\n",
    "This dataset is also optimized by running parallel calls and prefetching data."
   ]
  },
  {
   "cell_type": "code",
   "execution_count": 27,
   "metadata": {
    "colab": {},
    "colab_type": "code",
    "id": "ba7bilizt_qW"
   },
   "outputs": [
    {
     "data": {
      "text/plain": [
       "<PrefetchDataset shapes: (Trajectory(step_type=(64, 2), observation=(64, 2, 4), action=(64, 2), policy_info=(), next_step_type=(64, 2), reward=(64, 2), discount=(64, 2)), BufferInfo(ids=(64, 2), probabilities=(64,))), types: (Trajectory(step_type=tf.int32, observation=tf.float32, action=tf.int64, policy_info=(), next_step_type=tf.int32, reward=tf.float32, discount=tf.float32), BufferInfo(ids=tf.int64, probabilities=tf.float32))>"
      ]
     },
     "execution_count": 27,
     "metadata": {},
     "output_type": "execute_result"
    }
   ],
   "source": [
    "# Dataset generates trajectories with shape [Bx2x...]\n",
    "dataset = replay_buffer.as_dataset(\n",
    "    num_parallel_calls=3, \n",
    "    sample_batch_size=batch_size, \n",
    "    num_steps=2).prefetch(3)\n",
    "\n",
    "\n",
    "dataset"
   ]
  },
  {
   "cell_type": "code",
   "execution_count": 28,
   "metadata": {
    "colab": {},
    "colab_type": "code",
    "id": "K13AST-2ppOq"
   },
   "outputs": [
    {
     "name": "stdout",
     "output_type": "stream",
     "text": [
      "<tensorflow.python.data.ops.iterator_ops.OwnedIterator object at 0x00000161447D9C88>\n"
     ]
    }
   ],
   "source": [
    "iterator = iter(dataset)\n",
    "\n",
    "print(iterator)\n",
    "\n"
   ]
  },
  {
   "cell_type": "code",
   "execution_count": 29,
   "metadata": {
    "colab": {},
    "colab_type": "code",
    "id": "Th5w5Sff0b16"
   },
   "outputs": [],
   "source": [
    "# For the curious:\n",
    "# Uncomment to see what the dataset iterator is feeding to the agent.\n",
    "# Compare this representation of replay data \n",
    "# to the collection of individual trajectories shown earlier.\n",
    "\n",
    "# iterator.next()"
   ]
  },
  {
   "cell_type": "markdown",
   "metadata": {
    "colab_type": "text",
    "id": "hBc9lj9VWWtZ"
   },
   "source": [
    "## Training the agent\n",
    "\n",
    "Two things must happen during the training loop:\n",
    "\n",
    "-   collect data from the environment\n",
    "-   use that data to train the agent's neural network(s)\n",
    "\n",
    "This example also periodicially evaluates the policy and prints the current score.\n",
    "\n",
    "The following will take ~5 minutes to run."
   ]
  },
  {
   "cell_type": "code",
   "execution_count": 30,
   "metadata": {
    "colab": {},
    "colab_type": "code",
    "id": "0pTbJ3PeyF-u"
   },
   "outputs": [
    {
     "name": "stdout",
     "output_type": "stream",
     "text": [
      "step = 200: loss = 9.250656127929688\n",
      "step = 400: loss = 31.25300407409668\n",
      "step = 600: loss = 5.506990432739258\n",
      "step = 800: loss = 35.506752014160156\n",
      "step = 1000: loss = 35.04868698120117\n",
      "step = 1000: Average Return = 24.600000381469727\n",
      "step = 1200: loss = 22.520057678222656\n",
      "step = 1400: loss = 34.15736389160156\n",
      "step = 1600: loss = 24.23433494567871\n",
      "step = 1800: loss = 50.23413848876953\n",
      "step = 2000: loss = 4.108171463012695\n",
      "step = 2000: Average Return = 61.400001525878906\n",
      "step = 2200: loss = 133.332763671875\n",
      "step = 2400: loss = 7.854946136474609\n",
      "step = 2600: loss = 39.04527282714844\n",
      "step = 2800: loss = 56.114437103271484\n",
      "step = 3000: loss = 9.32850170135498\n",
      "step = 3000: Average Return = 38.79999923706055\n",
      "step = 3200: loss = 6.521099090576172\n",
      "step = 3400: loss = 139.95956420898438\n",
      "step = 3600: loss = 94.53947448730469\n",
      "step = 3800: loss = 187.15541076660156\n",
      "step = 4000: loss = 24.15936279296875\n",
      "step = 4000: Average Return = 126.0\n",
      "step = 4200: loss = 7.199720859527588\n",
      "step = 4400: loss = 41.68394470214844\n",
      "step = 4600: loss = 178.66213989257812\n",
      "step = 4800: loss = 35.182373046875\n",
      "step = 5000: loss = 62.35885238647461\n",
      "step = 5000: Average Return = 114.4000015258789\n",
      "step = 5200: loss = 6.696045875549316\n",
      "step = 5400: loss = 115.64030456542969\n",
      "step = 5600: loss = 224.63929748535156\n",
      "step = 5800: loss = 297.46929931640625\n",
      "step = 6000: loss = 136.3912353515625\n",
      "step = 6000: Average Return = 186.1999969482422\n",
      "step = 6200: loss = 172.3990936279297\n",
      "step = 6400: loss = 58.74716567993164\n",
      "step = 6600: loss = 285.9060974121094\n",
      "step = 6800: loss = 30.30013656616211\n",
      "step = 7000: loss = 131.910888671875\n",
      "step = 7000: Average Return = 199.3000030517578\n",
      "step = 7200: loss = 17.31157684326172\n",
      "step = 7400: loss = 166.5568084716797\n",
      "step = 7600: loss = 16.713531494140625\n",
      "step = 7800: loss = 28.135591506958008\n",
      "step = 8000: loss = 158.3035430908203\n",
      "step = 8000: Average Return = 197.8000030517578\n",
      "step = 8200: loss = 189.13243103027344\n",
      "step = 8400: loss = 15.580984115600586\n",
      "step = 8600: loss = 223.651123046875\n",
      "step = 8800: loss = 16.082731246948242\n",
      "step = 9000: loss = 355.1855773925781\n",
      "step = 9000: Average Return = 198.39999389648438\n",
      "step = 9200: loss = 286.91552734375\n",
      "step = 9400: loss = 482.69256591796875\n",
      "step = 9600: loss = 318.9334411621094\n",
      "step = 9800: loss = 418.8589782714844\n",
      "step = 10000: loss = 384.9595642089844\n",
      "step = 10000: Average Return = 200.0\n",
      "step = 10200: loss = 13.085609436035156\n",
      "step = 10400: loss = 750.2549438476562\n",
      "step = 10600: loss = 701.449462890625\n",
      "step = 10800: loss = 38.687992095947266\n",
      "step = 11000: loss = 147.508056640625\n",
      "step = 11000: Average Return = 200.0\n",
      "step = 11200: loss = 575.6077880859375\n",
      "step = 11400: loss = 61.827728271484375\n",
      "step = 11600: loss = 654.7600708007812\n",
      "step = 11800: loss = 54.11827087402344\n",
      "step = 12000: loss = 1001.367431640625\n",
      "step = 12000: Average Return = 200.0\n",
      "step = 12200: loss = 38.99932098388672\n",
      "step = 12400: loss = 890.5909423828125\n",
      "step = 12600: loss = 388.1480407714844\n",
      "step = 12800: loss = 1769.8116455078125\n",
      "step = 13000: loss = 31.527454376220703\n",
      "step = 13000: Average Return = 200.0\n",
      "step = 13200: loss = 31.006336212158203\n",
      "step = 13400: loss = 1269.9820556640625\n",
      "step = 13600: loss = 1320.4276123046875\n",
      "step = 13800: loss = 53.27385330200195\n",
      "step = 14000: loss = 57.75246810913086\n",
      "step = 14000: Average Return = 200.0\n",
      "step = 14200: loss = 2815.3466796875\n",
      "step = 14400: loss = 44.35471725463867\n",
      "step = 14600: loss = 381.91558837890625\n",
      "step = 14800: loss = 1514.2392578125\n",
      "step = 15000: loss = 3701.244140625\n",
      "step = 15000: Average Return = 200.0\n",
      "step = 15200: loss = 64.11662292480469\n",
      "step = 15400: loss = 1823.120361328125\n",
      "step = 15600: loss = 54.375022888183594\n",
      "step = 15800: loss = 87.20792388916016\n",
      "step = 16000: loss = 2647.17041015625\n",
      "step = 16000: Average Return = 200.0\n",
      "step = 16200: loss = 120.21630859375\n",
      "step = 16400: loss = 66.27799224853516\n",
      "step = 16600: loss = 98.4311294555664\n",
      "step = 16800: loss = 91.54157257080078\n",
      "step = 17000: loss = 4280.35302734375\n",
      "step = 17000: Average Return = 200.0\n",
      "step = 17200: loss = 1248.567138671875\n",
      "step = 17400: loss = 79.8550796508789\n",
      "step = 17600: loss = 5382.7392578125\n",
      "step = 17800: loss = 93.4041748046875\n",
      "step = 18000: loss = 123.88539123535156\n",
      "step = 18000: Average Return = 200.0\n",
      "step = 18200: loss = 80.17658996582031\n",
      "step = 18400: loss = 92.57096862792969\n",
      "step = 18600: loss = 101.38934326171875\n",
      "step = 18800: loss = 3921.464599609375\n",
      "step = 19000: loss = 5852.7666015625\n",
      "step = 19000: Average Return = 200.0\n",
      "step = 19200: loss = 4833.0419921875\n",
      "step = 19400: loss = 70.92958068847656\n",
      "step = 19600: loss = 69.58059692382812\n",
      "step = 19800: loss = 3053.0849609375\n",
      "step = 20000: loss = 18065.90625\n",
      "step = 20000: Average Return = 200.0\n"
     ]
    }
   ],
   "source": [
    "#@test {\"skip\": true}\n",
    "try:\n",
    "  %%time\n",
    "except:\n",
    "  pass\n",
    "\n",
    "# (Optional) Optimize by wrapping some of the code in a graph using TF function.\n",
    "agent.train = common.function(agent.train)\n",
    "\n",
    "# Reset the train step\n",
    "agent.train_step_counter.assign(0)\n",
    "\n",
    "# Evaluate the agent's policy once before training.\n",
    "avg_return = compute_avg_return(eval_env, agent.policy, num_eval_episodes)\n",
    "returns = [avg_return]\n",
    "\n",
    "for _ in range(num_iterations):\n",
    "\n",
    "  # Collect a few steps using collect_policy and save to the replay buffer.\n",
    "  for _ in range(collect_steps_per_iteration):\n",
    "    collect_step(train_env, agent.collect_policy, replay_buffer)\n",
    "\n",
    "  # Sample a batch of data from the buffer and update the agent's network.\n",
    "  experience, unused_info = next(iterator)\n",
    "  train_loss = agent.train(experience).loss\n",
    "\n",
    "  step = agent.train_step_counter.numpy()\n",
    "\n",
    "  if step % log_interval == 0:\n",
    "    print('step = {0}: loss = {1}'.format(step, train_loss))\n",
    "\n",
    "  if step % eval_interval == 0:\n",
    "    avg_return = compute_avg_return(eval_env, agent.policy, num_eval_episodes)\n",
    "    print('step = {0}: Average Return = {1}'.format(step, avg_return))\n",
    "    returns.append(avg_return)"
   ]
  },
  {
   "cell_type": "markdown",
   "metadata": {
    "colab_type": "text",
    "id": "68jNcA_TiJDq"
   },
   "source": [
    "## Visualization\n",
    "\n"
   ]
  },
  {
   "cell_type": "markdown",
   "metadata": {
    "colab_type": "text",
    "id": "aO-LWCdbbOIC"
   },
   "source": [
    "### Plots\n",
    "\n",
    "Use `matplotlib.pyplot` to chart how the policy improved during training.\n",
    "\n",
    "One iteration of `Cartpole-v0` consists of 200 time steps. The environment gives a reward of `+1` for each step the pole stays up, so the maximum return for one episode is 200. The charts shows the return increasing towards that maximum each time it is evaluated during training. (It may be a little unstable and not increase monotonically each time.)"
   ]
  },
  {
   "cell_type": "code",
   "execution_count": 31,
   "metadata": {
    "colab": {},
    "colab_type": "code",
    "id": "NxtL1mbOYCVO"
   },
   "outputs": [
    {
     "data": {
      "text/plain": [
       "(8.689999198913574, 250)"
      ]
     },
     "execution_count": 31,
     "metadata": {},
     "output_type": "execute_result"
    },
    {
     "data": {
      "image/png": "[encoded data removed]",
      "text/plain": [
       "<Figure size 432x288 with 1 Axes>"
      ]
     },
     "metadata": {
      "needs_background": "light"
     },
     "output_type": "display_data"
    }
   ],
   "source": [
    "#@test {\"skip\": true}\n",
    "\n",
    "iterations = range(0, num_iterations + 1, eval_interval)\n",
    "plt.plot(iterations, returns)\n",
    "plt.ylabel('Average Return')\n",
    "plt.xlabel('Iterations')\n",
    "plt.ylim(top=250)"
   ]
  },
  {
   "cell_type": "markdown",
   "metadata": {
    "colab_type": "text",
    "id": "M7-XpPP99Cy7"
   },
   "source": [
    "### Videos"
   ]
  },
  {
   "cell_type": "markdown",
   "metadata": {
    "colab_type": "text",
    "id": "9pGfGxSH32gn"
   },
   "source": [
    "Charts are nice. But more exciting is seeing an agent actually performing a task in an environment. \n",
    "\n",
    "First, create a function to embed videos in the notebook."
   ]
  },
  {
   "cell_type": "code",
   "execution_count": 32,
   "metadata": {
    "colab": {},
    "colab_type": "code",
    "id": "ULaGr8pvOKbl"
   },
   "outputs": [],
   "source": [
    "def embed_mp4(filename):\n",
    "  \"\"\"Embeds an mp4 file in the notebook.\"\"\"\n",
    "  video = open(filename,'rb').read()\n",
    "  b64 = base64.b64encode(video)\n",
    "  tag = '''\n",
    "  <video width=\"640\" height=\"480\" controls>\n",
    "    <source src=\"data:video/mp4;base64,{0}\" type=\"video/mp4\">\n",
    "  Your browser does not support the video tag.\n",
    "  </video>'''.format(b64.decode())\n",
    "\n",
    "  return IPython.display.HTML(tag)"
   ]
  },
  {
   "cell_type": "markdown",
   "metadata": {
    "colab_type": "text",
    "id": "9c_PH-pX4Pr5"
   },
   "source": [
    "Now iterate through a few episodes of the Cartpole game with the agent. The underlying Python environment (the one \"inside\" the TensorFlow environment wrapper) provides a `render()` method, which outputs an image of the environment state. These can be collected into a video."
   ]
  },
  {
   "cell_type": "code",
   "execution_count": 33,
   "metadata": {
    "colab": {},
    "colab_type": "code",
    "id": "owOVWB158NlF"
   },
   "outputs": [
    {
     "name": "stderr",
     "output_type": "stream",
     "text": [
      "IMAGEIO FFMPEG_WRITER WARNING: input image is not divisible by macro_block_size=16, resizing from (600, 400) to (608, 400) to ensure video compatibility with most codecs and players. To prevent resizing, make your input image divisible by the macro_block_size or set the macro_block_size to 1 (risking incompatibility).\n"
     ]
    },
    {
     "data": {
      "text/html": [
       "\n",
       "  <video width=\"640\" height=\"480\" controls>\n",
       "    <source src=\"data:video/mp4;base64,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\" type=\"video/mp4\">\n",
       "  Your browser does not support the video tag.\n",
       "  </video>"
      ],
      "text/plain": [
       "<IPython.core.display.HTML object>"
      ]
     },
     "execution_count": 33,
     "metadata": {},
     "output_type": "execute_result"
    }
   ],
   "source": [
    "def create_policy_eval_video(policy, filename, num_episodes=5, fps=30):\n",
    "  filename = filename + \".mp4\"\n",
    "  with imageio.get_writer(filename, fps=fps) as video:\n",
    "    for _ in range(num_episodes):\n",
    "      time_step = eval_env.reset()\n",
    "      video.append_data(eval_py_env.render())\n",
    "      while not time_step.is_last():\n",
    "        action_step = policy.action(time_step)\n",
    "        time_step = eval_env.step(action_step.action)\n",
    "        video.append_data(eval_py_env.render())\n",
    "  return embed_mp4(filename)\n",
    "\n",
    "create_policy_eval_video(agent.policy, \"trained-agent\")"
   ]
  },
  {
   "cell_type": "markdown",
   "metadata": {
    "colab_type": "text",
    "id": "povaAOcZygLw"
   },
   "source": [
    "For fun, compare the trained agent (above) to an agent moving randomly. (It does not do as well.)"
   ]
  },
  {
   "cell_type": "code",
   "execution_count": 34,
   "metadata": {
    "colab": {},
    "colab_type": "code",
    "id": "pJZIdC37yNH4"
   },
   "outputs": [
    {
     "name": "stderr",
     "output_type": "stream",
     "text": [
      "IMAGEIO FFMPEG_WRITER WARNING: input image is not divisible by macro_block_size=16, resizing from (600, 400) to (608, 400) to ensure video compatibility with most codecs and players. To prevent resizing, make your input image divisible by the macro_block_size or set the macro_block_size to 1 (risking incompatibility).\n"
     ]
    },
    {
     "data": {
      "text/html": [
       "\n",
       "  <video width=\"640\" height=\"480\" controls>\n",
       "    <source src=\"data:video/mp4;base64,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\" type=\"video/mp4\">\n",
       "  Your browser does not support the video tag.\n",
       "  </video>"
      ],
      "text/plain": [
       "<IPython.core.display.HTML object>"
      ]
     },
     "execution_count": 34,
     "metadata": {},
     "output_type": "execute_result"
    }
   ],
   "source": [
    "create_policy_eval_video(random_policy, \"random-agent\")"
   ]
  }
 ],
 "metadata": {
  "colab": {
   "collapsed_sections": [],
   "name": "DQN Tutorial.ipynb",
   "private_outputs": true,
   "provenance": [],
   "toc_visible": true
  },
  "kernelspec": {
   "display_name": "Python 3",
   "language": "python",
   "name": "python3"
  },
  "language_info": {
   "codemirror_mode": {
    "name": "ipython",
    "version": 3
   },
   "file_extension": ".py",
   "mimetype": "text/x-python",
   "name": "python",
   "nbconvert_exporter": "python",
   "pygments_lexer": "ipython3",
   "version": "3.7.4"
  },
  "pycharm": {
   "stem_cell": {
    "cell_type": "raw",
    "metadata": {
     "collapsed": false
    },
    "source": []
   }
  }
 },
 "nbformat": 4,
 "nbformat_minor": 1
}
