{
 "cells": [
  {
   "cell_type": "code",
   "execution_count": 1,
   "metadata": {},
   "outputs": [],
   "source": [
    "from __future__ import annotations\n",
    "\n",
    "import os\n",
    "import sys\n",
    "module_path = os.path.abspath(os.path.join('..'))\n",
    "if module_path not in sys.path:\n",
    "    sys.path.append(module_path)"
   ]
  },
  {
   "cell_type": "code",
   "execution_count": 2,
   "metadata": {},
   "outputs": [],
   "source": [
    "# Load the important classes\n",
    "import random as rnd\n",
    "\n",
    "from env.environment import OnlineFlexibleResourceAllocationEnv\n",
    "from agents.resource_weighting_agent import ResourceWeightingAgent\n",
    "from agents.task_pricing_agent import TaskPricingAgent"
   ]
  },
  {
   "cell_type": "code",
   "execution_count": 3,
   "metadata": {},
   "outputs": [],
   "source": [
    "# Setup environment\n",
    "env = OnlineFlexibleResourceAllocationEnv.make('../settings/basic_env_setting.json')"
   ]
  },
  {
   "cell_type": "code",
   "execution_count": 4,
   "metadata": {},
   "outputs": [],
   "source": [
    "# Setup the agents\n",
    "task_pricing_agents = [TaskPricingAgent('TPA {}'.format(agent_num)) for agent_num in range(10)]\n",
    "resource_weighting_agents = [ResourceWeightingAgent('RWA {}'.format(agent_num)) for agent_num in range(10)]"
   ]
  },
  {
   "cell_type": "code",
   "execution_count": 5,
   "metadata": {},
   "outputs": [
    {
     "data": {
      "text/plain": [
       "Env State (0x19d9815b728)\n",
       "Auction Task -> None\n",
       "Servers\n",
       "\tBasic 0 Server - Storage cap: 258, Comp cap: 23, Bandwidth cap: 19, Tasks: []\n",
       "\tBasic 1 Server - Storage cap: 207, Comp cap: 21, Bandwidth cap: 23, Tasks: []\n",
       "\tBasic 2 Server - Storage cap: 275, Comp cap: 24, Bandwidth cap: 20, Tasks: []\n",
       "\tBasic 3 Server - Storage cap: 214, Comp cap: 21, Bandwidth cap: 22, Tasks: []\n",
       "\tBasic 4 Server - Storage cap: 261, Comp cap: 26, Bandwidth cap: 20, Tasks: []\n",
       "\n",
       "Unallocated tasks\n",
       "\tBasic 6 Task (0x19d97e0b678) - Unassigned, Storage: 67, Comp: 26, Results data: 12, Auction time: 3, Deadline: 9\n",
       "\tBasic 21 Task (0x19d97e0bee8) - Unassigned, Storage: 58, Comp: 35, Results data: 24, Auction time: 7, Deadline: 17\n",
       "\tBasic 19 Task (0x19d97e0bdc8) - Unassigned, Storage: 50, Comp: 41, Results data: 16, Auction time: 10, Deadline: 17\n",
       "\tBasic 20 Task (0x19d97e0be58) - Unassigned, Storage: 77, Comp: 35, Results data: 26, Auction time: 11, Deadline: 19\n",
       "\tBasic 2 Task (0x19d97e0b288) - Unassigned, Storage: 78, Comp: 48, Results data: 28, Auction time: 12, Deadline: 18\n",
       "\tBasic 0 Task (0x19d97e0b4c8) - Unassigned, Storage: 51, Comp: 27, Results data: 30, Auction time: 14, Deadline: 20\n",
       "\tBasic 13 Task (0x19d97e0ba68) - Unassigned, Storage: 56, Comp: 47, Results data: 12, Auction time: 14, Deadline: 20\n",
       "\tBasic 10 Task (0x19d97e0b8b8) - Unassigned, Storage: 62, Comp: 30, Results data: 30, Auction time: 17, Deadline: 23\n",
       "\tBasic 5 Task (0x19d97e0b5e8) - Unassigned, Storage: 76, Comp: 43, Results data: 16, Auction time: 18, Deadline: 26\n",
       "\tBasic 14 Task (0x19d97e0baf8) - Unassigned, Storage: 51, Comp: 38, Results data: 13, Auction time: 18, Deadline: 29\n",
       "\tBasic 8 Task (0x19d97e0b798) - Unassigned, Storage: 57, Comp: 32, Results data: 25, Auction time: 22, Deadline: 30\n",
       "\tBasic 17 Task (0x19d97e0bca8) - Unassigned, Storage: 60, Comp: 52, Results data: 21, Auction time: 24, Deadline: 36\n",
       "\tBasic 12 Task (0x19d97e0b9d8) - Unassigned, Storage: 64, Comp: 42, Results data: 16, Auction time: 25, Deadline: 35\n",
       "\tBasic 3 Task (0x19d97e0b438) - Unassigned, Storage: 59, Comp: 57, Results data: 27, Auction time: 30, Deadline: 41\n",
       "\tBasic 1 Task (0x19d97e0b1f8) - Unassigned, Storage: 64, Comp: 40, Results data: 30, Auction time: 31, Deadline: 42\n",
       "\tBasic 7 Task (0x19d97e0b708) - Unassigned, Storage: 58, Comp: 53, Results data: 25, Auction time: 33, Deadline: 39\n",
       "\tBasic 16 Task (0x19d97e0bc18) - Unassigned, Storage: 70, Comp: 34, Results data: 28, Auction time: 34, Deadline: 41\n",
       "\tBasic 15 Task (0x19d97e0bb88) - Unassigned, Storage: 71, Comp: 46, Results data: 12, Auction time: 44, Deadline: 54\n",
       "\tBasic 9 Task (0x19d97e0b828) - Unassigned, Storage: 53, Comp: 25, Results data: 17, Auction time: 45, Deadline: 54\n",
       "\tBasic 11 Task (0x19d97e0b948) - Unassigned, Storage: 68, Comp: 57, Results data: 27, Auction time: 46, Deadline: 56\n",
       "\tBasic 18 Task (0x19d97e0bd38) - Unassigned, Storage: 65, Comp: 29, Results data: 15, Auction time: 47, Deadline: 57\n",
       "\tBasic 4 Task (0x19d97e0b558) - Unassigned, Storage: 60, Comp: 46, Results data: 19, Auction time: 58, Deadline: 64\n"
      ]
     },
     "execution_count": 5,
     "metadata": {},
     "output_type": "execute_result"
    }
   ],
   "source": [
    "# Reset the environment\n",
    "state = env.reset()\n",
    "env"
   ]
  },
  {
   "cell_type": "code",
   "execution_count": 15,
   "metadata": {},
   "outputs": [
    {
     "data": {
      "text/plain": [
       "Env State (0x19d981ea0e8)\n",
       "Auction Task -> None\n",
       "Servers\n",
       "\tBasic 0 Server - Storage cap: 258, Comp cap: 23, Bandwidth cap: 19, Tasks: []\n",
       "\tBasic 1 Server - Storage cap: 207, Comp cap: 21, Bandwidth cap: 23, Tasks: [Basic 6]\n",
       "\tBasic 2 Server - Storage cap: 275, Comp cap: 24, Bandwidth cap: 20, Tasks: []\n",
       "\tBasic 3 Server - Storage cap: 214, Comp cap: 21, Bandwidth cap: 22, Tasks: []\n",
       "\tBasic 4 Server - Storage cap: 261, Comp cap: 26, Bandwidth cap: 20, Tasks: []\n"
      ]
     },
     "execution_count": 15,
     "metadata": {},
     "output_type": "execute_result"
    }
   ],
   "source": [
    "state"
   ]
  },
  {
   "cell_type": "code",
   "execution_count": 7,
   "metadata": {},
   "outputs": [],
   "source": [
    "server_task_pricing_agents = {server: rnd.choice(task_pricing_agents) \n",
    "                              for server in state.server_tasks.keys()}\n",
    "server_resource_allocation_agents = {server: rnd.choice(resource_weighting_agents) \n",
    "                                     for server in state.server_tasks.keys()}"
   ]
  },
  {
   "cell_type": "code",
   "execution_count": 9,
   "metadata": {},
   "outputs": [],
   "source": [
    "auction_trajectory = []\n",
    "resource_allocation_trajectory = []"
   ]
  },
  {
   "cell_type": "code",
   "execution_count": 13,
   "metadata": {},
   "outputs": [
    {
     "name": "stdout",
     "output_type": "stream",
     "text": [
      "Basic 0 Server - Storage cap: 258, Comp cap: 23, Bandwidth cap: 19 -> 14\n",
      "Basic 1 Server - Storage cap: 207, Comp cap: 21, Bandwidth cap: 23 -> 3\n",
      "Basic 2 Server - Storage cap: 275, Comp cap: 24, Bandwidth cap: 20 -> 19\n",
      "Basic 3 Server - Storage cap: 214, Comp cap: 21, Bandwidth cap: 22 -> 19\n",
      "Basic 4 Server - Storage cap: 261, Comp cap: 26, Bandwidth cap: 20 -> 26\n",
      "Next State: Env State (0x19d981ea0e8)\n",
      "Auction Task -> None\n",
      "Servers\n",
      "\tBasic 0 Server - Storage cap: 258, Comp cap: 23, Bandwidth cap: 19, Tasks: []\n",
      "\tBasic 1 Server - Storage cap: 207, Comp cap: 21, Bandwidth cap: 23, Tasks: [Basic 6]\n",
      "\tBasic 2 Server - Storage cap: 275, Comp cap: 24, Bandwidth cap: 20, Tasks: []\n",
      "\tBasic 3 Server - Storage cap: 214, Comp cap: 21, Bandwidth cap: 22, Tasks: []\n",
      "\tBasic 4 Server - Storage cap: 261, Comp cap: 26, Bandwidth cap: 20, Tasks: []\n",
      "\n",
      "Rewards: {Server(name='Basic 1', storage_cap=207, comp_cap=21, bandwidth_cap=23): inf}\n",
      "Done: False\n"
     ]
    },
    {
     "ename": "NameError",
     "evalue": "name 'next_State' is not defined",
     "output_type": "error",
     "traceback": [
      "\u001b[1;31m---------------------------------------------------------------------------\u001b[0m",
      "\u001b[1;31mNameError\u001b[0m                                 Traceback (most recent call last)",
      "\u001b[1;32m<ipython-input-13-76e9a0619608>\u001b[0m in \u001b[0;36m<module>\u001b[1;34m\u001b[0m\n\u001b[0;32m     15\u001b[0m \u001b[0mprint\u001b[0m\u001b[1;33m(\u001b[0m\u001b[1;34mf'Done: {done}'\u001b[0m\u001b[1;33m)\u001b[0m\u001b[1;33m\u001b[0m\u001b[1;33m\u001b[0m\u001b[0m\n\u001b[0;32m     16\u001b[0m \u001b[1;33m\u001b[0m\u001b[0m\n\u001b[1;32m---> 17\u001b[1;33m \u001b[0mstate\u001b[0m \u001b[1;33m=\u001b[0m \u001b[0mnext_State\u001b[0m\u001b[1;33m\u001b[0m\u001b[1;33m\u001b[0m\u001b[0m\n\u001b[0m",
      "\u001b[1;31mNameError\u001b[0m: name 'next_State' is not defined"
     ]
    }
   ],
   "source": [
    "actions = {\n",
    "    server: server_task_pricing_agents[server].price(state.auction_task, server,\n",
    "                                                     state.server_tasks[server], env.time_step)\n",
    "    for server in state.server_tasks.keys()\n",
    "}\n",
    "\n",
    "print('\\n'.join([f'{str(server)} -> {price}' for server, price in actions.items()]))\n",
    "\n",
    "next_state, rewards, done, info = env.step(actions)\n",
    "\n",
    "auction_trajectory.append((state, rewards))\n",
    "\n",
    "print(f'Next State: {str(next_state)}')\n",
    "print(f'Rewards: {rewards}')\n",
    "print(f'Done: {done}')\n",
    "\n",
    "state = next_state"
   ]
  },
  {
   "cell_type": "code",
   "execution_count": 16,
   "metadata": {
    "pycharm": {
     "name": "#%%\n"
    }
   },
   "outputs": [
    {
     "ename": "AttributeError",
     "evalue": "'ResourceWeightingAgent' object has no attribute 'weight'",
     "output_type": "error",
     "traceback": [
      "\u001b[1;31m---------------------------------------------------------------------------\u001b[0m",
      "\u001b[1;31mAttributeError\u001b[0m                            Traceback (most recent call last)",
      "\u001b[1;32m<ipython-input-16-dc02d7cf5b58>\u001b[0m in \u001b[0;36m<module>\u001b[1;34m\u001b[0m\n\u001b[0;32m      4\u001b[0m         \u001b[1;32mfor\u001b[0m \u001b[0mtask\u001b[0m \u001b[1;32min\u001b[0m \u001b[0mtasks\u001b[0m\u001b[1;33m\u001b[0m\u001b[1;33m\u001b[0m\u001b[0m\n\u001b[0;32m      5\u001b[0m     }\n\u001b[1;32m----> 6\u001b[1;33m     \u001b[1;32mfor\u001b[0m \u001b[0mserver\u001b[0m\u001b[1;33m,\u001b[0m \u001b[0mtasks\u001b[0m \u001b[1;32min\u001b[0m \u001b[0mstate\u001b[0m\u001b[1;33m.\u001b[0m\u001b[0mserver_tasks\u001b[0m\u001b[1;33m.\u001b[0m\u001b[0mitems\u001b[0m\u001b[1;33m(\u001b[0m\u001b[1;33m)\u001b[0m\u001b[1;33m\u001b[0m\u001b[1;33m\u001b[0m\u001b[0m\n\u001b[0m\u001b[0;32m      7\u001b[0m }\n\u001b[0;32m      8\u001b[0m \u001b[1;33m\u001b[0m\u001b[0m\n",
      "\u001b[1;32m<ipython-input-16-dc02d7cf5b58>\u001b[0m in \u001b[0;36m<dictcomp>\u001b[1;34m(.0)\u001b[0m\n\u001b[0;32m      4\u001b[0m         \u001b[1;32mfor\u001b[0m \u001b[0mtask\u001b[0m \u001b[1;32min\u001b[0m \u001b[0mtasks\u001b[0m\u001b[1;33m\u001b[0m\u001b[1;33m\u001b[0m\u001b[0m\n\u001b[0;32m      5\u001b[0m     }\n\u001b[1;32m----> 6\u001b[1;33m     \u001b[1;32mfor\u001b[0m \u001b[0mserver\u001b[0m\u001b[1;33m,\u001b[0m \u001b[0mtasks\u001b[0m \u001b[1;32min\u001b[0m \u001b[0mstate\u001b[0m\u001b[1;33m.\u001b[0m\u001b[0mserver_tasks\u001b[0m\u001b[1;33m.\u001b[0m\u001b[0mitems\u001b[0m\u001b[1;33m(\u001b[0m\u001b[1;33m)\u001b[0m\u001b[1;33m\u001b[0m\u001b[1;33m\u001b[0m\u001b[0m\n\u001b[0m\u001b[0;32m      7\u001b[0m }\n\u001b[0;32m      8\u001b[0m \u001b[1;33m\u001b[0m\u001b[0m\n",
      "\u001b[1;32m<ipython-input-16-dc02d7cf5b58>\u001b[0m in \u001b[0;36m<dictcomp>\u001b[1;34m(.0)\u001b[0m\n\u001b[0;32m      2\u001b[0m     server: {\n\u001b[0;32m      3\u001b[0m         \u001b[0mtask\u001b[0m\u001b[1;33m:\u001b[0m \u001b[0mserver_resource_allocation_agents\u001b[0m\u001b[1;33m[\u001b[0m\u001b[0mserver\u001b[0m\u001b[1;33m]\u001b[0m\u001b[1;33m.\u001b[0m\u001b[0mweight\u001b[0m\u001b[1;33m(\u001b[0m\u001b[0mserver\u001b[0m\u001b[1;33m,\u001b[0m \u001b[0mtask\u001b[0m\u001b[1;33m,\u001b[0m \u001b[0mstate\u001b[0m\u001b[1;33m.\u001b[0m\u001b[0mserver_tasks\u001b[0m\u001b[1;33m[\u001b[0m\u001b[0mserver\u001b[0m\u001b[1;33m]\u001b[0m\u001b[1;33m,\u001b[0m \u001b[0menv\u001b[0m\u001b[1;33m.\u001b[0m\u001b[0mtime_step\u001b[0m\u001b[1;33m)\u001b[0m\u001b[1;33m\u001b[0m\u001b[1;33m\u001b[0m\u001b[0m\n\u001b[1;32m----> 4\u001b[1;33m         \u001b[1;32mfor\u001b[0m \u001b[0mtask\u001b[0m \u001b[1;32min\u001b[0m \u001b[0mtasks\u001b[0m\u001b[1;33m\u001b[0m\u001b[1;33m\u001b[0m\u001b[0m\n\u001b[0m\u001b[0;32m      5\u001b[0m     }\n\u001b[0;32m      6\u001b[0m     \u001b[1;32mfor\u001b[0m \u001b[0mserver\u001b[0m\u001b[1;33m,\u001b[0m \u001b[0mtasks\u001b[0m \u001b[1;32min\u001b[0m \u001b[0mstate\u001b[0m\u001b[1;33m.\u001b[0m\u001b[0mserver_tasks\u001b[0m\u001b[1;33m.\u001b[0m\u001b[0mitems\u001b[0m\u001b[1;33m(\u001b[0m\u001b[1;33m)\u001b[0m\u001b[1;33m\u001b[0m\u001b[1;33m\u001b[0m\u001b[0m\n",
      "\u001b[1;31mAttributeError\u001b[0m: 'ResourceWeightingAgent' object has no attribute 'weight'"
     ]
    }
   ],
   "source": [
    "actions = {\n",
    "    server: {\n",
    "        task: server_resource_allocation_agents[server].weight(server, task, state.server_tasks[server], env.time_step)\n",
    "        for task in tasks\n",
    "    }\n",
    "    for server, tasks in state.server_tasks.items()\n",
    "}\n",
    "\n",
    "print('\\n'.join([f\"{server.name} - [{', '.join([f'{task.name}: {actions[server][task]}' for task in tasks])}]\"\n",
    "                for server, tasks in actions.items()]))\n",
    "\n",
    "next_state, rewards, done, info = env.step(actions)\n",
    "\n",
    "# If rewards is a Dict[Server, Dict[Task, float]] is the completed tasks\n",
    "resource_allocation_trajectory.append((state, next_state, rewards))\n",
    "\n",
    "print(f'Next State: {str(next_state)}')\n",
    "print(f'Rewards: {rewards}')\n",
    "print(f'Done: {done}')\n",
    "\n",
    "state = next_state"
   ]
  }
 ],
 "metadata": {
  "kernelspec": {
   "display_name": "Python 3",
   "language": "python",
   "name": "python3"
  },
  "language_info": {
   "codemirror_mode": {
    "name": "ipython",
    "version": 3
   },
   "file_extension": ".py",
   "mimetype": "text/x-python",
   "name": "python",
   "nbconvert_exporter": "python",
   "pygments_lexer": "ipython3",
   "version": "3.7.3"
  },
  "pycharm": {
   "stem_cell": {
    "cell_type": "raw",
    "source": [],
    "metadata": {
     "collapsed": false
    }
   }
  }
 },
 "nbformat": 4,
 "nbformat_minor": 1
}