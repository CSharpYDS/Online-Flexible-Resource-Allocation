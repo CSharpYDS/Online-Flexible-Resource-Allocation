{
 "cells": [
  {
   "cell_type": "code",
   "execution_count": 1,
   "metadata": {},
   "outputs": [],
   "source": [
    "import os\n",
    "import sys\n",
    "module_path = os.path.abspath(os.path.join('..'))\n",
    "if module_path not in sys.path:\n",
    "    sys.path.append(module_path)"
   ]
  },
  {
   "cell_type": "code",
   "execution_count": 2,
   "metadata": {},
   "outputs": [],
   "source": [
    "from __future__ import annotations\n",
    "\n",
    "# Load the important classes\n",
    "import random as rnd\n",
    "\n",
    "from env.environment import OnlineFlexibleResourceAllocationEnv\n",
    "from agents.resource_weighting_agent import ResourceWeightingAgent\n",
    "from agents.task_pricing_agent import TaskPricingAgent"
   ]
  },
  {
   "cell_type": "code",
   "execution_count": 3,
   "metadata": {},
   "outputs": [],
   "source": [
    "# Setup environment\n",
    "test_env = OnlineFlexibleResourceAllocationEnv.make('../settings/basic_env_setting.json')"
   ]
  },
  {
   "cell_type": "code",
   "execution_count": 4,
   "metadata": {},
   "outputs": [],
   "source": [
    "# Setup the agents\n",
    "task_pricing_agents = [TaskPricingAgent('TPA {}'.format(agent_num)) for agent_num in range(10)]\n",
    "resource_weighting_agents = [ResourceWeightingAgent('RWA {}'.format(agent_num)) for agent_num in range(10)]"
   ]
  },
  {
   "cell_type": "code",
   "execution_count": 5,
   "metadata": {},
   "outputs": [
    {
     "data": {
      "text/plain": [
       "Env State (0x2036ae2cfc0)\n",
       "Auction Task -> Basic 2 Task (0x2035d250dc8) - Unassigned, Storage: 103, Comp: 33, Results data: 21, Auction time: 0, Deadline: 9\n",
       "Servers\n",
       "\tBasic 0 Server - Storage cap: 377, Comp cap: 29, Bandwidth cap: 22, Tasks: []\n",
       "\tBasic 1 Server - Storage cap: 438, Comp cap: 17, Bandwidth cap: 22, Tasks: []\n",
       "\tBasic 2 Server - Storage cap: 321, Comp cap: 24, Bandwidth cap: 15, Tasks: []\n",
       "\tBasic 3 Server - Storage cap: 440, Comp cap: 30, Bandwidth cap: 23, Tasks: []\n",
       "\n",
       "Unallocated tasks\n",
       "\tBasic 25 Task (0x2036ae33ca8) - Unassigned, Storage: 113, Comp: 36, Results data: 16, Auction time: 0, Deadline: 6\n",
       "\tBasic 30 Task (0x2036ae33f78) - Unassigned, Storage: 93, Comp: 56, Results data: 12, Auction time: 5, Deadline: 11\n",
       "\tBasic 8 Task (0x2036ae33318) - Unassigned, Storage: 99, Comp: 30, Results data: 23, Auction time: 7, Deadline: 14\n",
       "\tBasic 11 Task (0x2036ae334c8) - Unassigned, Storage: 119, Comp: 39, Results data: 29, Auction time: 8, Deadline: 20\n",
       "\tBasic 19 Task (0x2036ae33948) - Unassigned, Storage: 90, Comp: 32, Results data: 11, Auction time: 12, Deadline: 18\n",
       "\tBasic 16 Task (0x2036ae33798) - Unassigned, Storage: 99, Comp: 26, Results data: 16, Auction time: 15, Deadline: 27\n",
       "\tBasic 22 Task (0x2036ae33af8) - Unassigned, Storage: 94, Comp: 50, Results data: 28, Auction time: 15, Deadline: 21\n",
       "\tBasic 24 Task (0x2036ae33c18) - Unassigned, Storage: 89, Comp: 49, Results data: 28, Auction time: 16, Deadline: 23\n",
       "\tBasic 35 Task (0x2036ae34288) - Unassigned, Storage: 114, Comp: 32, Results data: 29, Auction time: 22, Deadline: 32\n",
       "\tBasic 23 Task (0x2036ae33b88) - Unassigned, Storage: 114, Comp: 47, Results data: 15, Auction time: 23, Deadline: 34\n",
       "\tBasic 31 Task (0x2036ae34048) - Unassigned, Storage: 101, Comp: 42, Results data: 15, Auction time: 25, Deadline: 35\n",
       "\tBasic 13 Task (0x2036ae335e8) - Unassigned, Storage: 94, Comp: 42, Results data: 27, Auction time: 27, Deadline: 37\n",
       "\tBasic 33 Task (0x2036ae34168) - Unassigned, Storage: 120, Comp: 45, Results data: 11, Auction time: 29, Deadline: 35\n",
       "\tBasic 0 Task (0x2036aa46ca8) - Unassigned, Storage: 86, Comp: 60, Results data: 14, Auction time: 30, Deadline: 36\n",
       "\tBasic 32 Task (0x2036ae340d8) - Unassigned, Storage: 111, Comp: 45, Results data: 24, Auction time: 31, Deadline: 39\n",
       "\tBasic 18 Task (0x2036ae338b8) - Unassigned, Storage: 113, Comp: 41, Results data: 10, Auction time: 34, Deadline: 40\n",
       "\tBasic 26 Task (0x2036ae33d38) - Unassigned, Storage: 99, Comp: 59, Results data: 12, Auction time: 35, Deadline: 41\n",
       "\tBasic 3 Task (0x2036ae33048) - Unassigned, Storage: 91, Comp: 38, Results data: 24, Auction time: 37, Deadline: 44\n",
       "\tBasic 20 Task (0x2036ae339d8) - Unassigned, Storage: 99, Comp: 53, Results data: 21, Auction time: 39, Deadline: 47\n",
       "\tBasic 21 Task (0x2036ae33a68) - Unassigned, Storage: 99, Comp: 36, Results data: 30, Auction time: 40, Deadline: 46\n",
       "\tBasic 9 Task (0x2036ae333a8) - Unassigned, Storage: 106, Comp: 57, Results data: 12, Auction time: 43, Deadline: 53\n",
       "\tBasic 7 Task (0x2036ae33288) - Unassigned, Storage: 101, Comp: 54, Results data: 21, Auction time: 44, Deadline: 52\n",
       "\tBasic 10 Task (0x2036ae33438) - Unassigned, Storage: 108, Comp: 45, Results data: 20, Auction time: 44, Deadline: 54\n",
       "\tBasic 28 Task (0x2036ae33e58) - Unassigned, Storage: 85, Comp: 56, Results data: 21, Auction time: 44, Deadline: 54\n",
       "\tBasic 1 Task (0x2035d250d38) - Unassigned, Storage: 117, Comp: 30, Results data: 23, Auction time: 45, Deadline: 52\n",
       "\tBasic 12 Task (0x2036ae33558) - Unassigned, Storage: 114, Comp: 27, Results data: 21, Auction time: 48, Deadline: 56\n",
       "\tBasic 27 Task (0x2036ae33dc8) - Unassigned, Storage: 92, Comp: 25, Results data: 12, Auction time: 48, Deadline: 55\n",
       "\tBasic 5 Task (0x2036ae33168) - Unassigned, Storage: 101, Comp: 57, Results data: 24, Auction time: 51, Deadline: 59\n",
       "\tBasic 6 Task (0x2036ae331f8) - Unassigned, Storage: 83, Comp: 27, Results data: 15, Auction time: 52, Deadline: 62\n",
       "\tBasic 29 Task (0x2036ae33ee8) - Unassigned, Storage: 97, Comp: 52, Results data: 10, Auction time: 52, Deadline: 61\n",
       "\tBasic 4 Task (0x2036ae330d8) - Unassigned, Storage: 104, Comp: 53, Results data: 24, Auction time: 53, Deadline: 59\n",
       "\tBasic 34 Task (0x2036ae341f8) - Unassigned, Storage: 112, Comp: 37, Results data: 19, Auction time: 53, Deadline: 65\n",
       "\tBasic 17 Task (0x2036ae33828) - Unassigned, Storage: 82, Comp: 41, Results data: 14, Auction time: 54, Deadline: 62\n",
       "\tBasic 14 Task (0x2036ae33678) - Unassigned, Storage: 98, Comp: 41, Results data: 22, Auction time: 57, Deadline: 68\n",
       "\tBasic 15 Task (0x2036ae33708) - Unassigned, Storage: 112, Comp: 35, Results data: 17, Auction time: 58, Deadline: 64\n"
      ]
     },
     "execution_count": 5,
     "metadata": {},
     "output_type": "execute_result"
    }
   ],
   "source": [
    "# Reset the environment\n",
    "state = test_env.reset()\n",
    "test_env"
   ]
  },
  {
   "cell_type": "code",
   "execution_count": 6,
   "metadata": {},
   "outputs": [
    {
     "data": {
      "text/plain": [
       "Env State (0x2036ae2cfc0)\n",
       "Auction Task -> Basic 2 Task (0x2035d250dc8) - Unassigned, Storage: 103, Comp: 33, Results data: 21, Auction time: 0, Deadline: 9\n",
       "Servers\n",
       "\tBasic 0 Server - Storage cap: 377, Comp cap: 29, Bandwidth cap: 22, Tasks: []\n",
       "\tBasic 1 Server - Storage cap: 438, Comp cap: 17, Bandwidth cap: 22, Tasks: []\n",
       "\tBasic 2 Server - Storage cap: 321, Comp cap: 24, Bandwidth cap: 15, Tasks: []\n",
       "\tBasic 3 Server - Storage cap: 440, Comp cap: 30, Bandwidth cap: 23, Tasks: []\n"
      ]
     },
     "execution_count": 6,
     "metadata": {},
     "output_type": "execute_result"
    }
   ],
   "source": [
    "state"
   ]
  },
  {
   "cell_type": "code",
   "execution_count": 7,
   "metadata": {},
   "outputs": [],
   "source": [
    "server_task_pricing_agents = {server: rnd.choice(task_pricing_agents) \n",
    "                              for server in state.server_tasks.keys()}\n",
    "server_resource_allocation_agents = {server: rnd.choice(resource_weighting_agents) \n",
    "                                     for server in state.server_tasks.keys()}"
   ]
  },
  {
   "cell_type": "code",
   "execution_count": 8,
   "metadata": {},
   "outputs": [],
   "source": [
    "auction_trajectory = []\n",
    "\n",
    "def auction():\n",
    "    actions = {\n",
    "        server: server_task_pricing_agents[server].price(server, state.auction_task, \n",
    "                                                         state.server_tasks[server], env.time_step)\n",
    "    }\n",
    "    \n",
    "    print('\\n'.join([f'{str(server)} -> {price}' for server, price in actions.items()]))\n",
    "    \n",
    "    next_state, rewards, done, info = env.step(actions)\n",
    "    \n",
    "    auction_trajectory.append((state, rewards))\n",
    "    \n",
    "    print(f'Next State: {str(next_state)}')\n",
    "    print(f'Rewards: {rewards}')\n",
    "    print(f'Done: {done}')\n",
    "    \n",
    "    state = next_State"
   ]
  },
  {
   "cell_type": "code",
   "execution_count": 9,
   "metadata": {},
   "outputs": [],
   "source": [
    "resource_allocation_trajectory = []\n",
    "\n",
    "def resource_allocation():\n",
    "    actions = {\n",
    "        server: {\n",
    "            task: server_resource_allocation_agents[server].weight(server, task, state.server_tasks[server], env.time_step)\n",
    "            for task in tasks\n",
    "        }\n",
    "        for server, tasks in state.server_tasks.items()\n",
    "    }\n",
    "    \n",
    "    print('\\n'.join([f\"{server.name} - [{', '.join([f'{task.name}: {actions[server][task]}'])}]\"]))\n",
    "    \n",
    "    next_state, rewards, done, info = env.step(actions)\n",
    "    \n",
    "    resource_allocation_trajectory.append((state, next_state, rewards))\n",
    "    \n",
    "    print(f'Next State: {str(next_state)}')\n",
    "    print(f'Rewards: {rewards}')\n",
    "    print(f'Done: {done}')"
   ]
  }
 ],
 "metadata": {
  "kernelspec": {
   "display_name": "Python 3",
   "language": "python",
   "name": "python3"
  },
  "language_info": {
   "codemirror_mode": {
    "name": "ipython",
    "version": 3
   },
   "file_extension": ".py",
   "mimetype": "text/x-python",
   "name": "python",
   "nbconvert_exporter": "python",
   "pygments_lexer": "ipython3",
   "version": "3.7.3"
  }
 },
 "nbformat": 4,
 "nbformat_minor": 1
}
