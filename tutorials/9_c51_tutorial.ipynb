{
 "cells": [
  {
   "cell_type": "markdown",
   "metadata": {
    "colab_type": "text",
    "id": "klGNgWREsvQv"
   },
   "source": [
    "##### Copyright 2018 The TF-Agents Authors."
   ]
  },
  {
   "cell_type": "markdown",
   "metadata": {
    "colab_type": "text",
    "id": "lsaQlK8fFQqH"
   },
   "source": [
    "### Get Started\n",
    "<table class=\"tfo-notebook-buttons\" align=\"left\">\n",
    "  <td>\n",
    "    <a target=\"_blank\" href=\"https://colab.research.google.com/github/tensorflow/agents/blob/master/docs/tutorials/9_c51_tutorial.ipynb\"><img src=\"https://www.tensorflow.org/images/colab_logo_32px.png\" />Run in Google Colab</a>\n",
    "  </td>\n",
    "  <td>\n",
    "    <a target=\"_blank\" href=\"https://github.com/tensorflow/agents/blob/master/docs/tutorials/9_c51_tutorial.ipynb\"><img src=\"https://www.tensorflow.org/images/GitHub-Mark-32px.png\" />View source on GitHub</a>\n",
    "  </td>\n",
    "</table>\n"
   ]
  },
  {
   "cell_type": "markdown",
   "metadata": {
    "colab_type": "text",
    "id": "ZOUOQOrFs3zn"
   },
   "source": [
    "## Introduction"
   ]
  },
  {
   "cell_type": "markdown",
   "metadata": {
    "colab_type": "text",
    "id": "cKOCZlhUgXVK"
   },
   "source": [
    "This example shows how to train a [Categorical DQN (C51)](https://arxiv.org/pdf/1707.06887.pdf) agent on the Cartpole environment using the TF-Agents library.\n",
    "\n",
    "![Cartpole environment](https://github.com/tensorflow/agents/blob/master/docs/tutorials/images/cartpole.png?raw=1)\n",
    "\n",
    "Make sure you take a look through the [DQN tutorial](https://github.com/tensorflow/agents/blob/master/docs/tutorials/1_dqn_tutorial.ipynb) as a prerequisite. This tutorial will assume familiarity with the DQN tutorial; it will mainly focus on the differences between DQN and C51.\n"
   ]
  },
  {
   "cell_type": "markdown",
   "metadata": {
    "colab_type": "text",
    "id": "1u9QVVsShC9X"
   },
   "source": [
    "## Setup"
   ]
  },
  {
   "cell_type": "code",
   "execution_count": 1,
   "metadata": {
    "colab": {},
    "colab_type": "code",
    "id": "sMitx5qSgJk1"
   },
   "outputs": [],
   "source": [
    "from __future__ import absolute_import\n",
    "from __future__ import division\n",
    "from __future__ import print_function\n",
    "\n",
    "import base64\n",
    "import imageio\n",
    "import IPython\n",
    "import matplotlib\n",
    "import matplotlib.pyplot as plt\n",
    "import PIL.Image\n",
    "import pyvirtualdisplay\n",
    "\n",
    "import tensorflow as tf\n",
    "\n",
    "from tf_agents.agents.categorical_dqn import categorical_dqn_agent\n",
    "from tf_agents.drivers import dynamic_step_driver\n",
    "from tf_agents.environments import suite_gym\n",
    "from tf_agents.environments import tf_py_environment\n",
    "from tf_agents.eval import metric_utils\n",
    "from tf_agents.metrics import tf_metrics\n",
    "from tf_agents.networks import categorical_q_network\n",
    "from tf_agents.policies import random_tf_policy\n",
    "from tf_agents.replay_buffers import tf_uniform_replay_buffer\n",
    "from tf_agents.trajectories import trajectory\n",
    "from tf_agents.utils import common\n",
    "\n",
    "tf.compat.v1.enable_v2_behavior()\n",
    "\n",
    "\n",
    "# Set up a virtual display for rendering OpenAI gym environments.\n",
    "# display = pyvirtualdisplay.Display(visible=0, size=(1400, 900)).start()"
   ]
  },
  {
   "cell_type": "markdown",
   "metadata": {
    "colab_type": "text",
    "id": "LmC0NDhdLIKY"
   },
   "source": [
    "## Hyperparameters"
   ]
  },
  {
   "cell_type": "code",
   "execution_count": 2,
   "metadata": {
    "colab": {},
    "colab_type": "code",
    "id": "HC1kNrOsLSIZ"
   },
   "outputs": [],
   "source": [
    "env_name = \"CartPole-v1\" # @param {type:\"string\"}\n",
    "num_iterations = 15000 # @param {type:\"integer\"}\n",
    "\n",
    "initial_collect_steps = 1000  # @param {type:\"integer\"} \n",
    "collect_steps_per_iteration = 1  # @param {type:\"integer\"}\n",
    "replay_buffer_capacity = 100000  # @param {type:\"integer\"}\n",
    "\n",
    "fc_layer_params = (100,)\n",
    "\n",
    "batch_size = 64  # @param {type:\"integer\"}\n",
    "learning_rate = 1e-3  # @param {type:\"number\"}\n",
    "gamma = 0.99\n",
    "log_interval = 200  # @param {type:\"integer\"}\n",
    "\n",
    "num_atoms = 51  # @param {type:\"integer\"}\n",
    "min_q_value = -20  # @param {type:\"integer\"}\n",
    "max_q_value = 20  # @param {type:\"integer\"}\n",
    "n_step_update = 2  # @param {type:\"integer\"}\n",
    "\n",
    "num_eval_episodes = 10  # @param {type:\"integer\"}\n",
    "eval_interval = 1000  # @param {type:\"integer\"}"
   ]
  },
  {
   "cell_type": "markdown",
   "metadata": {
    "colab_type": "text",
    "id": "VMsJC3DEgI0x"
   },
   "source": [
    "## Environment\n",
    "\n",
    "Load the environment as before, with one for training and one for evaluation. Here we use CartPole-v1 (vs. CartPole-v0 in the DQN tutorial), which has a larger max reward of 500 rather than 200."
   ]
  },
  {
   "cell_type": "code",
   "execution_count": 3,
   "metadata": {
    "colab": {},
    "colab_type": "code",
    "id": "Xp-Y4mD6eDhF"
   },
   "outputs": [],
   "source": [
    "train_py_env = suite_gym.load(env_name)\n",
    "eval_py_env = suite_gym.load(env_name)\n",
    "\n",
    "train_env = tf_py_environment.TFPyEnvironment(train_py_env)\n",
    "eval_env = tf_py_environment.TFPyEnvironment(eval_py_env)"
   ]
  },
  {
   "cell_type": "markdown",
   "metadata": {
    "colab_type": "text",
    "id": "E9lW_OZYFR8A"
   },
   "source": [
    "## Agent\n",
    "\n",
    "C51 is a Q-learning algorithm based on DQN. Like DQN, it can be used on any environment with a discrete action space.\n",
    "\n",
    "The main difference between C51 and DQN is that rather than simply predicting the Q-value for each state-action pair, C51 predicts a histogram model for the probability distribution of the Q-value:\n",
    "\n",
    "![Example C51 Distribution](images/c51_distribution.png)\n",
    "\n",
    "By learning the distribution rather than simply the expected value, the algorithm is able to stay more stable during training, leading to improved final performance. This is particularly true in situations with bimodal or even multimodal value distributions, where a single average does not provide an accurate picture.\n",
    "\n",
    "In order to train on probability distributions rather than on values, C51 must perform some complex distributional computations in order to calculate its loss function. But don't worry, all of this is taken care of for you in TF-Agents!\n",
    "\n",
    "To create a C51 Agent, we first need to create a `CategoricalQNetwork`. The API of the `CategoricalQNetwork` is the same as that of the `QNetwork`, except that there is an additional argument `num_atoms`. This represents the number of support points in our probability distribution estimates. (The above image includes 10 support points, each represented by a vertical blue bar.) As you can tell from the name, the default number of atoms is 51.\n",
    "\n"
   ]
  },
  {
   "cell_type": "code",
   "execution_count": 4,
   "metadata": {
    "colab": {},
    "colab_type": "code",
    "id": "TgkdEPg_muzV"
   },
   "outputs": [],
   "source": [
    "categorical_q_net = categorical_q_network.CategoricalQNetwork(\n",
    "    train_env.observation_spec(),\n",
    "    train_env.action_spec(),\n",
    "    num_atoms=num_atoms,\n",
    "    fc_layer_params=fc_layer_params)"
   ]
  },
  {
   "cell_type": "markdown",
   "metadata": {
    "colab_type": "text",
    "id": "z62u55hSmviJ"
   },
   "source": [
    "We also need an `optimizer` to train the network we just created, and a `train_step_counter` variable to keep track of how many times the network was updated.\n",
    "\n",
    "Note that one other significant difference from vanilla `DqnAgent` is that we now need to specify `min_q_value` and `max_q_value` as arguments. These specify the most extreme values of the support (in other words, the most extreme of the 51 atoms on either side). Make sure to choose these appropriately for your particular environment. Here we use -20 and 20."
   ]
  },
  {
   "cell_type": "code",
   "execution_count": 5,
   "metadata": {
    "colab": {},
    "colab_type": "code",
    "id": "jbY4yrjTEyc9"
   },
   "outputs": [],
   "source": [
    "optimizer = tf.compat.v1.train.AdamOptimizer(learning_rate=learning_rate)\n",
    "\n",
    "train_step_counter = tf.compat.v2.Variable(0)\n",
    "\n",
    "agent = categorical_dqn_agent.CategoricalDqnAgent(\n",
    "    train_env.time_step_spec(),\n",
    "    train_env.action_spec(),\n",
    "    categorical_q_network=categorical_q_net,\n",
    "    optimizer=optimizer,\n",
    "    min_q_value=min_q_value,\n",
    "    max_q_value=max_q_value,\n",
    "    n_step_update=n_step_update,\n",
    "    td_errors_loss_fn=common.element_wise_squared_loss,\n",
    "    gamma=gamma,\n",
    "    train_step_counter=train_step_counter)\n",
    "agent.initialize()"
   ]
  },
  {
   "cell_type": "markdown",
   "metadata": {
    "colab_type": "text",
    "id": "L7O7F_HqiQ1G"
   },
   "source": [
    "One last thing to note is that we also added an argument to use n-step updates with $n$ = 2. In single-step Q-learning ($n$ = 1), we only compute the error between the Q-values at the current time step and the next time step using the single-step return (based on the Bellman optimality equation). The single-step return is defined as:\n",
    "\n",
    "$$G_t = R_{t + 1} + \\gamma V(s_{t + 1})$$\n",
    "\n",
    "where we define $V(s) = \\max_a{Q(s, a)}$.\n",
    "\n",
    "N-step updates involve expanding the standard single-step return function $n$ times:\n",
    "\n",
    "$$G_t^n = R_{t + 1} + \\gamma R_{t + 2} + \\gamma^2 R_{t + 3} + \\dots + \\gamma^n V(s_{t + n})$$\n",
    "\n",
    "N-step updates enable the agent to bootstrap from further in the future, and with the right value of $n$, this often leads to faster learning.\n",
    "\n",
    "Although C51 and n-step updates are often combined with prioritized replay to form the core of the [Rainbow agent](https://arxiv.org/pdf/1710.02298.pdf), we saw no measurable improvement from implementing prioritized replay. Moreover, we find that when combining our C51 agent with n-step updates alone, our agent performs as well as other Rainbow agents on the sample of Atari environments we've tested."
   ]
  },
  {
   "cell_type": "markdown",
   "metadata": {
    "colab_type": "text",
    "id": "94rCXQtbUbXv"
   },
   "source": [
    "## Metrics and Evaluation\n",
    "\n",
    "The most common metric used to evaluate a policy is the average return. The return is the sum of rewards obtained while running a policy in an environment for an episode, and we usually average this over a few episodes. We can compute the average return metric as follows.\n"
   ]
  },
  {
   "cell_type": "code",
   "execution_count": 6,
   "metadata": {
    "colab": {},
    "colab_type": "code",
    "id": "bitzHo5_UbXy"
   },
   "outputs": [
    {
     "data": {
      "text/plain": [
       "22.8"
      ]
     },
     "execution_count": 6,
     "metadata": {},
     "output_type": "execute_result"
    }
   ],
   "source": [
    "#@test {\"skip\": true}\n",
    "def compute_avg_return(environment, policy, num_episodes=10):\n",
    "\n",
    "  total_return = 0.0\n",
    "  for _ in range(num_episodes):\n",
    "\n",
    "    time_step = environment.reset()\n",
    "    episode_return = 0.0\n",
    "\n",
    "    while not time_step.is_last():\n",
    "      action_step = policy.action(time_step)\n",
    "      time_step = environment.step(action_step.action)\n",
    "      episode_return += time_step.reward\n",
    "    total_return += episode_return\n",
    "\n",
    "  avg_return = total_return / num_episodes\n",
    "  return avg_return.numpy()[0]\n",
    "\n",
    "\n",
    "random_policy = random_tf_policy.RandomTFPolicy(train_env.time_step_spec(),\n",
    "                                                train_env.action_spec())\n",
    "\n",
    "compute_avg_return(eval_env, random_policy, num_eval_episodes)\n",
    "\n",
    "# Please also see the metrics module for standard implementations of different\n",
    "# metrics."
   ]
  },
  {
   "cell_type": "markdown",
   "metadata": {
    "colab_type": "text",
    "id": "NLva6g2jdWgr"
   },
   "source": [
    "## Data Collection\n",
    "\n",
    "As in the DQN tutorial, set up the replay buffer and the initial data collection with the random policy."
   ]
  },
  {
   "cell_type": "code",
   "execution_count": 7,
   "metadata": {
    "colab": {},
    "colab_type": "code",
    "id": "wr1KSAEGG4h9"
   },
   "outputs": [],
   "source": [
    "#@test {\"skip\": true}\n",
    "replay_buffer = tf_uniform_replay_buffer.TFUniformReplayBuffer(\n",
    "    data_spec=agent.collect_data_spec,\n",
    "    batch_size=train_env.batch_size,\n",
    "    max_length=replay_buffer_capacity)\n",
    "\n",
    "def collect_step(environment, policy):\n",
    "  time_step = environment.current_time_step()\n",
    "  action_step = policy.action(time_step)\n",
    "  next_time_step = environment.step(action_step.action)\n",
    "  traj = trajectory.from_transition(time_step, action_step, next_time_step)\n",
    "\n",
    "  # Add trajectory to the replay buffer\n",
    "  replay_buffer.add_batch(traj)\n",
    "\n",
    "for _ in range(initial_collect_steps):\n",
    "  collect_step(train_env, random_policy)\n",
    "\n",
    "# This loop is so common in RL, that we provide standard implementations of\n",
    "# these. For more details see the drivers module.\n",
    "\n",
    "# Dataset generates trajectories with shape [BxTx...] where\n",
    "# T = n_step_update + 1.\n",
    "dataset = replay_buffer.as_dataset(\n",
    "    num_parallel_calls=3, sample_batch_size=batch_size,\n",
    "    num_steps=n_step_update + 1).prefetch(3)\n",
    "\n",
    "iterator = iter(dataset)"
   ]
  },
  {
   "cell_type": "markdown",
   "metadata": {
    "colab_type": "text",
    "id": "hBc9lj9VWWtZ"
   },
   "source": [
    "## Training the agent\n",
    "\n",
    "The training loop involves both collecting data from the environment and optimizing the agent's networks. Along the way, we will occasionally evaluate the agent's policy to see how we are doing.\n",
    "\n",
    "The following will take ~7 minutes to run."
   ]
  },
  {
   "cell_type": "code",
   "execution_count": 8,
   "metadata": {
    "colab": {},
    "colab_type": "code",
    "id": "0pTbJ3PeyF-u"
   },
   "outputs": [
    {
     "name": "stdout",
     "output_type": "stream",
     "text": [
      "step = 200: loss = 3.082838535308838\n",
      "step = 400: loss = 2.1323728561401367\n",
      "step = 600: loss = 2.2462544441223145\n",
      "step = 800: loss = 2.221221685409546\n",
      "step = 1000: loss = 2.2484958171844482\n",
      "step = 1000: Average Return = 31.40\n",
      "step = 1200: loss = 2.2327749729156494\n",
      "step = 1400: loss = 2.0462517738342285\n",
      "step = 1600: loss = 1.541734218597412\n",
      "step = 1800: loss = 1.7130334377288818\n",
      "step = 2000: loss = 1.5339324474334717\n",
      "step = 2000: Average Return = 123.60\n",
      "step = 2200: loss = 1.5420093536376953\n",
      "step = 2400: loss = 1.5436357259750366\n",
      "step = 2600: loss = 1.4045636653900146\n",
      "step = 2800: loss = 1.2675920724868774\n",
      "step = 3000: loss = 1.4356048107147217\n",
      "step = 3000: Average Return = 122.20\n",
      "step = 3200: loss = 1.2449874877929688\n",
      "step = 3400: loss = 0.9465166330337524\n",
      "step = 3600: loss = 1.161405324935913\n",
      "step = 3800: loss = 1.181383490562439\n",
      "step = 4000: loss = 0.8881985545158386\n",
      "step = 4000: Average Return = 140.80\n",
      "step = 4200: loss = 1.0591869354248047\n",
      "step = 4400: loss = 0.9575021266937256\n",
      "step = 4600: loss = 0.9663211107254028\n",
      "step = 4800: loss = 0.8815298080444336\n",
      "step = 5000: loss = 0.7848747372627258\n",
      "step = 5000: Average Return = 254.70\n",
      "step = 5200: loss = 1.0334166288375854\n",
      "step = 5400: loss = 0.6856884360313416\n",
      "step = 5600: loss = 1.0357905626296997\n",
      "step = 5800: loss = 0.8842573165893555\n",
      "step = 6000: loss = 0.8016248345375061\n",
      "step = 6000: Average Return = 162.40\n",
      "step = 6200: loss = 0.7252961993217468\n",
      "step = 6400: loss = 0.5892646312713623\n",
      "step = 6600: loss = 0.7474570870399475\n",
      "step = 6800: loss = 0.6067734956741333\n",
      "step = 7000: loss = 1.1619391441345215\n",
      "step = 7000: Average Return = 152.50\n",
      "step = 7200: loss = 0.7938354015350342\n",
      "step = 7400: loss = 0.7169587016105652\n",
      "step = 7600: loss = 0.7718319892883301\n",
      "step = 7800: loss = 0.8477455377578735\n",
      "step = 8000: loss = 0.7120463848114014\n",
      "step = 8000: Average Return = 186.30\n",
      "step = 8200: loss = 0.7559752464294434\n",
      "step = 8400: loss = 0.7983124256134033\n",
      "step = 8600: loss = 0.6344190835952759\n",
      "step = 8800: loss = 0.8439801931381226\n",
      "step = 9000: loss = 0.5253294110298157\n",
      "step = 9000: Average Return = 279.30\n",
      "step = 9200: loss = 0.6443355083465576\n",
      "step = 9400: loss = 0.3867270350456238\n",
      "step = 9600: loss = 0.5985771417617798\n",
      "step = 9800: loss = 0.6390477418899536\n",
      "step = 10000: loss = 0.6829957365989685\n",
      "step = 10000: Average Return = 313.20\n",
      "step = 10200: loss = 0.7192513942718506\n",
      "step = 10400: loss = 0.6345459222793579\n",
      "step = 10600: loss = 0.7104002237319946\n",
      "step = 10800: loss = 0.5701504349708557\n",
      "step = 11000: loss = 0.7226966023445129\n",
      "step = 11000: Average Return = 168.10\n",
      "step = 11200: loss = 0.7367595434188843\n",
      "step = 11400: loss = 0.7596956491470337\n",
      "step = 11600: loss = 0.5187954306602478\n",
      "step = 11800: loss = 0.4060487747192383\n",
      "step = 12000: loss = 0.527511477470398\n",
      "step = 12000: Average Return = 156.70\n",
      "step = 12200: loss = 0.46632567048072815\n",
      "step = 12400: loss = 0.742398202419281\n",
      "step = 12600: loss = 0.5842956304550171\n",
      "step = 12800: loss = 0.5220767855644226\n",
      "step = 13000: loss = 0.6601288318634033\n",
      "step = 13000: Average Return = 258.80\n",
      "step = 13200: loss = 0.4361236095428467\n",
      "step = 13400: loss = 0.6123470067977905\n",
      "step = 13600: loss = 0.5142793655395508\n",
      "step = 13800: loss = 0.37098005414009094\n",
      "step = 14000: loss = 0.42716240882873535\n",
      "step = 14000: Average Return = 340.30\n",
      "step = 14200: loss = 0.574407696723938\n",
      "step = 14400: loss = 0.5662981867790222\n",
      "step = 14600: loss = 0.7188661098480225\n",
      "step = 14800: loss = 0.6185052990913391\n",
      "step = 15000: loss = 0.41223347187042236\n",
      "step = 15000: Average Return = 219.40\n"
     ]
    }
   ],
   "source": [
    "#@test {\"skip\": true}\n",
    "try:\n",
    "  %%time\n",
    "except:\n",
    "  pass\n",
    "\n",
    "# (Optional) Optimize by wrapping some of the code in a graph using TF function.\n",
    "agent.train = common.function(agent.train)\n",
    "\n",
    "# Reset the train step\n",
    "agent.train_step_counter.assign(0)\n",
    "\n",
    "# Evaluate the agent's policy once before training.\n",
    "avg_return = compute_avg_return(eval_env, agent.policy, num_eval_episodes)\n",
    "returns = [avg_return]\n",
    "\n",
    "for _ in range(num_iterations):\n",
    "\n",
    "  # Collect a few steps using collect_policy and save to the replay buffer.\n",
    "  for _ in range(collect_steps_per_iteration):\n",
    "    collect_step(train_env, agent.collect_policy)\n",
    "\n",
    "  # Sample a batch of data from the buffer and update the agent's network.\n",
    "  experience, unused_info = next(iterator)\n",
    "  train_loss = agent.train(experience)\n",
    "\n",
    "  step = agent.train_step_counter.numpy()\n",
    "\n",
    "  if step % log_interval == 0:\n",
    "    print('step = {0}: loss = {1}'.format(step, train_loss.loss))\n",
    "\n",
    "  if step % eval_interval == 0:\n",
    "    avg_return = compute_avg_return(eval_env, agent.policy, num_eval_episodes)\n",
    "    print('step = {0}: Average Return = {1:.2f}'.format(step, avg_return))\n",
    "    returns.append(avg_return)"
   ]
  },
  {
   "cell_type": "markdown",
   "metadata": {
    "colab_type": "text",
    "id": "68jNcA_TiJDq"
   },
   "source": [
    "## Visualization\n",
    "\n"
   ]
  },
  {
   "cell_type": "markdown",
   "metadata": {
    "colab_type": "text",
    "id": "aO-LWCdbbOIC"
   },
   "source": [
    "### Plots\n",
    "\n",
    "We can plot return vs global steps to see the performance of our agent. In `Cartpole-v1`, the environment gives a reward of +1 for every time step the pole stays up, and since the maximum number of steps is 500, the maximum possible return is also 500."
   ]
  },
  {
   "cell_type": "code",
   "execution_count": 9,
   "metadata": {
    "colab": {},
    "colab_type": "code",
    "id": "NxtL1mbOYCVO"
   },
   "outputs": [
    {
     "data": {
      "text/plain": [
       "(15.955000209808349, 550)"
      ]
     },
     "execution_count": 9,
     "metadata": {},
     "output_type": "execute_result"
    },
    {
     "data": {
      "image/png": "[encoded data removed]",
      "text/plain": [
       "<Figure size 432x288 with 1 Axes>"
      ]
     },
     "metadata": {
      "needs_background": "light"
     },
     "output_type": "display_data"
    }
   ],
   "source": [
    "#@test {\"skip\": true}\n",
    "\n",
    "steps = range(0, num_iterations + 1, eval_interval)\n",
    "plt.plot(steps, returns)\n",
    "plt.ylabel('Average Return')\n",
    "plt.xlabel('Step')\n",
    "plt.ylim(top=550)"
   ]
  },
  {
   "cell_type": "markdown",
   "metadata": {
    "colab_type": "text",
    "id": "M7-XpPP99Cy7"
   },
   "source": [
    "### Videos"
   ]
  },
  {
   "cell_type": "markdown",
   "metadata": {
    "colab_type": "text",
    "id": "9pGfGxSH32gn"
   },
   "source": [
    "It is helpful to visualize the performance of an agent by rendering the environment at each step. Before we do that, let us first create a function to embed videos in this colab."
   ]
  },
  {
   "cell_type": "code",
   "execution_count": 10,
   "metadata": {
    "colab": {},
    "colab_type": "code",
    "id": "ULaGr8pvOKbl"
   },
   "outputs": [],
   "source": [
    "def embed_mp4(filename):\n",
    "  \"\"\"Embeds an mp4 file in the notebook.\"\"\"\n",
    "  video = open(filename,'rb').read()\n",
    "  b64 = base64.b64encode(video)\n",
    "  tag = '''\n",
    "  <video width=\"640\" height=\"480\" controls>\n",
    "    <source src=\"data:video/mp4;base64,{0}\" type=\"video/mp4\">\n",
    "  Your browser does not support the video tag.\n",
    "  </video>'''.format(b64.decode())\n",
    "\n",
    "  return IPython.display.HTML(tag)"
   ]
  },
  {
   "cell_type": "markdown",
   "metadata": {
    "colab_type": "text",
    "id": "9c_PH-pX4Pr5"
   },
   "source": [
    "The following code visualizes the agent's policy for a few episodes:"
   ]
  },
  {
   "cell_type": "code",
   "execution_count": 11,
   "metadata": {
    "colab": {},
    "colab_type": "code",
    "id": "owOVWB158NlF"
   },
   "outputs": [
    {
     "name": "stderr",
     "output_type": "stream",
     "text": [
      "IMAGEIO FFMPEG_WRITER WARNING: input image is not divisible by macro_block_size=16, resizing from (600, 400) to (608, 400) to ensure video compatibility with most codecs and players. To prevent resizing, make your input image divisible by the macro_block_size or set the macro_block_size to 1 (risking incompatibility).\n"
     ]
    },
    {
     "data": {
      "text/html": [
       "\n",
       "  <video width=\"640\" height=\"480\" controls>\n",
       "    <source src=\"data:video/mp4;base64,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\" type=\"video/mp4\">\n",
       "  Your browser does not support the video tag.\n",
       "  </video>"
      ],
      "text/plain": [
       "<IPython.core.display.HTML object>"
      ]
     },
     "execution_count": 11,
     "metadata": {},
     "output_type": "execute_result"
    }
   ],
   "source": [
    "num_episodes = 3\n",
    "video_filename = 'c_51.mp4'\n",
    "with imageio.get_writer(video_filename, fps=60) as video:\n",
    "  for _ in range(num_episodes):\n",
    "    time_step = eval_env.reset()\n",
    "    video.append_data(eval_py_env.render())\n",
    "    while not time_step.is_last():\n",
    "      action_step = agent.policy.action(time_step)\n",
    "      time_step = eval_env.step(action_step.action)\n",
    "      video.append_data(eval_py_env.render())\n",
    "\n",
    "embed_mp4(video_filename)"
   ]
  },
  {
   "cell_type": "markdown",
   "metadata": {
    "colab_type": "text",
    "id": "exziB27hY8ia"
   },
   "source": [
    "C51 tends to do slightly better than DQN on CartPole-v1, but the difference between the two agents becomes more and more significant in increasingly complex environments. For example, on the full Atari 2600 benchmark, C51 demonstrates a mean score improvement of 126% over DQN after normalizing with respect to a random agent. Additional improvements can be gained by including n-step updates.\n",
    "\n",
    "For a deeper dive into the C51 algorithm, see [A Distributional Perspective on Reinforcement Learning (2017)](https://arxiv.org/pdf/1707.06887.pdf)."
   ]
  }
 ],
 "metadata": {
  "colab": {
   "collapsed_sections": [],
   "name": "DQN C51/Rainbow Tutorial.ipynb",
   "provenance": [],
   "toc_visible": true
  },
  "kernelspec": {
   "display_name": "Python 3",
   "language": "python",
   "name": "python3"
  },
  "language_info": {
   "codemirror_mode": {
    "name": "ipython",
    "version": 3
   },
   "file_extension": ".py",
   "mimetype": "text/x-python",
   "name": "python",
   "nbconvert_exporter": "python",
   "pygments_lexer": "ipython3",
   "version": "3.7.4"
  },
  "pycharm": {
   "stem_cell": {
    "cell_type": "raw",
    "source": [],
    "metadata": {
     "collapsed": false
    }
   }
  }
 },
 "nbformat": 4,
 "nbformat_minor": 1
}