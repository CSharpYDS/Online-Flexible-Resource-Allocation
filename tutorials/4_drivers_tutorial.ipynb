{
 "cells": [
  {
   "cell_type": "markdown",
   "metadata": {
    "colab_type": "text",
    "id": "beObUOFyuRjT"
   },
   "source": [
    "##### Copyright 2018 The TF-Agents Authors."
   ]
  },
  {
   "cell_type": "markdown",
   "metadata": {
    "colab_type": "text",
    "id": "lsaQlK8fFQqH"
   },
   "source": [
    "### Get Started\n",
    "<table class=\"tfo-notebook-buttons\" align=\"left\">\n",
    "  <td>\n",
    "    <a target=\"_blank\" href=\"https://colab.research.google.com/github/tensorflow/agents/blob/master/docs/tutorials/4_drivers_tutorial.ipynb\"><img src=\"https://www.tensorflow.org/images/colab_logo_32px.png\" />Run in Google Colab</a>\n",
    "  </td>\n",
    "  <td>\n",
    "    <a target=\"_blank\" href=\"https://github.com/tensorflow/agents/blob/master/docs/tutorials/4_drivers_tutorial.ipynb\"><img src=\"https://www.tensorflow.org/images/GitHub-Mark-32px.png\" />View source on GitHub</a>\n",
    "  </td>\n",
    "</table>\n"
   ]
  },
  {
   "cell_type": "markdown",
   "metadata": {
    "colab_type": "text",
    "id": "98uCsvskFKEA"
   },
   "source": [
    "### Imports"
   ]
  },
  {
   "cell_type": "code",
   "execution_count": 1,
   "metadata": {
    "colab": {},
    "colab_type": "code",
    "id": "whYNP894FSkA"
   },
   "outputs": [],
   "source": [
    "from __future__ import absolute_import\n",
    "from __future__ import division\n",
    "from __future__ import print_function\n",
    "\n",
    "import tensorflow as tf\n",
    "\n",
    "\n",
    "from tf_agents.environments import suite_gym\n",
    "from tf_agents.environments import tf_py_environment\n",
    "from tf_agents.policies import random_py_policy\n",
    "from tf_agents.policies import random_tf_policy\n",
    "from tf_agents.metrics import py_metrics\n",
    "from tf_agents.metrics import tf_metrics\n",
    "from tf_agents.drivers import py_driver\n",
    "from tf_agents.drivers import dynamic_episode_driver\n",
    "\n",
    "tf.compat.v1.enable_v2_behavior()"
   ]
  },
  {
   "cell_type": "markdown",
   "metadata": {
    "colab_type": "text",
    "id": "8aPHF9kXFggA"
   },
   "source": [
    "# Introduction\n",
    "\n",
    "A common pattern in reinforcement learning is to execute a policy in an environment for a specified number of steps or episodes. This happens, for example, during data collection, evaluation and generating a video of the agent.\n",
    "\n",
    "While this is relatively straightforward to write in python, it is much more complex to write and debug in TensorFlow because it involves `tf.while` loops, `tf.cond` and `tf.control_dependencies`. Therefore we abstract this notion of a run loop into a class called `driver`, and provide well tested implementations both in Python and TensorFlow.\n",
    "\n",
    "Additionally, the data encountered by the driver at each step is saved in a named tuple called Trajectory and broadcast to a set of observers such as replay buffers and metrics. This data includes the observation from the environment, the action recommended by the policy, the reward obtained, the type of the current and the next step, etc."
   ]
  },
  {
   "cell_type": "markdown",
   "metadata": {
    "colab_type": "text",
    "id": "9V7DEcB8IeiQ"
   },
   "source": [
    "# Python Drivers\n",
    "\n",
    "The `PyDriver` class takes a python environment, a python policy and a list of observers to update at each step. The main method is `run()`, which steps the environment using actions from the policy until at least one of the following termination criteria is met: The number of steps reaches `max_steps` or the number of episodes reaches `max_episodes`.\n",
    "\n",
    "The implementation is roughly as follows:\n",
    "\n",
    "\n",
    "```python\n",
    "class PyDriver(object):\n",
    "\n",
    "  def __init__(self, env, policy, observers, max_steps=1, max_episodes=1):\n",
    "    self._env = env\n",
    "    self._policy = policy\n",
    "    self._observers = observers or []\n",
    "    self._max_steps = max_steps or np.inf\n",
    "    self._max_episodes = max_episodes or np.inf\n",
    "\n",
    "  def run(self, time_step, policy_state=()):\n",
    "    num_steps = 0\n",
    "    num_episodes = 0\n",
    "    while num_steps < self._max_steps and num_episodes < self._max_episodes:\n",
    "\n",
    "      # Compute an action using the policy for the given time_step\n",
    "      action_step = self._policy.action(time_step, policy_state)\n",
    "\n",
    "      # Apply the action to the environment and get the next step\n",
    "      next_time_step = self._env.step(action_step.action)\n",
    "\n",
    "      # Package information into a trajectory\n",
    "      traj = trajectory.Trajectory(\n",
    "         time_step.step_type,\n",
    "         time_step.observation,\n",
    "         action_step.action,\n",
    "         action_step.info,\n",
    "         next_time_step.step_type,\n",
    "         next_time_step.reward,\n",
    "         next_time_step.discount)\n",
    "\n",
    "      for observer in self._observers:\n",
    "        observer(traj)\n",
    "\n",
    "      # Update statistics to check termination\n",
    "      num_episodes += np.sum(traj.is_last())\n",
    "      num_steps += np.sum(~traj.is_boundary())\n",
    "\n",
    "      time_step = next_time_step\n",
    "      policy_state = action_step.state\n",
    "\n",
    "    return time_step, policy_state\n",
    "\n",
    "```\n",
    "\n",
    "Now, let us run through the example of running a random policy on the CartPole environment, saving the results to a replay buffer and computing some metrics."
   ]
  },
  {
   "cell_type": "code",
   "execution_count": 2,
   "metadata": {
    "colab": {},
    "colab_type": "code",
    "id": "Dj4_-77_5ExP"
   },
   "outputs": [
    {
     "name": "stdout",
     "output_type": "stream",
     "text": [
      "Replay Buffer:\n",
      "Trajectory(step_type=array(0), observation=array([ 0.04696731,  0.01063763,  0.00718317, -0.02666198], dtype=float32), action=array(0, dtype=int64), policy_info=(), next_step_type=array(1), reward=array(1., dtype=float32), discount=array(1., dtype=float32))\n",
      "Trajectory(step_type=array(1), observation=array([ 0.04718006, -0.1845866 ,  0.00664993,  0.26827863], dtype=float32), action=array(0, dtype=int64), policy_info=(), next_step_type=array(1), reward=array(1., dtype=float32), discount=array(1., dtype=float32))\n",
      "Trajectory(step_type=array(1), observation=array([ 0.04348833, -0.37980282,  0.01201551,  0.5630515 ], dtype=float32), action=array(1, dtype=int64), policy_info=(), next_step_type=array(1), reward=array(1., dtype=float32), discount=array(1., dtype=float32))\n",
      "Trajectory(step_type=array(1), observation=array([ 0.03589227, -0.18485151,  0.02327654,  0.27417818], dtype=float32), action=array(0, dtype=int64), policy_info=(), next_step_type=array(1), reward=array(1., dtype=float32), discount=array(1., dtype=float32))\n",
      "Trajectory(step_type=array(1), observation=array([ 0.03219524, -0.38029772,  0.0287601 ,  0.57411075], dtype=float32), action=array(0, dtype=int64), policy_info=(), next_step_type=array(1), reward=array(1., dtype=float32), discount=array(1., dtype=float32))\n",
      "Trajectory(step_type=array(1), observation=array([ 0.02458929, -0.5758108 ,  0.04024231,  0.8757134 ], dtype=float32), action=array(1, dtype=int64), policy_info=(), next_step_type=array(1), reward=array(1., dtype=float32), discount=array(1., dtype=float32))\n",
      "Trajectory(step_type=array(1), observation=array([ 0.01307307, -0.3812583 ,  0.05775658,  0.595949  ], dtype=float32), action=array(0, dtype=int64), policy_info=(), next_step_type=array(1), reward=array(1., dtype=float32), discount=array(1., dtype=float32))\n",
      "Trajectory(step_type=array(1), observation=array([ 0.0054479 , -0.57713896,  0.06967556,  0.9062511 ], dtype=float32), action=array(0, dtype=int64), policy_info=(), next_step_type=array(1), reward=array(1., dtype=float32), discount=array(1., dtype=float32))\n",
      "Trajectory(step_type=array(1), observation=array([-0.00609488, -0.77313167,  0.08780058,  1.2199948 ], dtype=float32), action=array(1, dtype=int64), policy_info=(), next_step_type=array(1), reward=array(1., dtype=float32), discount=array(1., dtype=float32))\n",
      "Trajectory(step_type=array(1), observation=array([-0.02155751, -0.5792442 ,  0.11220048,  0.9560641 ], dtype=float32), action=array(0, dtype=int64), policy_info=(), next_step_type=array(1), reward=array(1., dtype=float32), discount=array(1., dtype=float32))\n",
      "Trajectory(step_type=array(1), observation=array([-0.03314239, -0.77568173,  0.13132176,  1.2817855 ], dtype=float32), action=array(1, dtype=int64), policy_info=(), next_step_type=array(1), reward=array(1., dtype=float32), discount=array(1., dtype=float32))\n",
      "Trajectory(step_type=array(1), observation=array([-0.04865603, -0.5824541 ,  0.15695748,  1.0329373 ], dtype=float32), action=array(0, dtype=int64), policy_info=(), next_step_type=array(1), reward=array(1., dtype=float32), discount=array(1., dtype=float32))\n",
      "Trajectory(step_type=array(1), observation=array([-0.06030511, -0.77927566,  0.17761622,  1.3704967 ], dtype=float32), action=array(1, dtype=int64), policy_info=(), next_step_type=array(1), reward=array(1., dtype=float32), discount=array(1., dtype=float32))\n",
      "Trajectory(step_type=array(1), observation=array([-0.07589062, -0.58676374,  0.20502615,  1.1382169 ], dtype=float32), action=array(0, dtype=int64), policy_info=(), next_step_type=array(2), reward=array(1., dtype=float32), discount=array(0., dtype=float32))\n",
      "Average Return:  14.0\n"
     ]
    }
   ],
   "source": [
    "env = suite_gym.load('CartPole-v0')\n",
    "policy = random_py_policy.RandomPyPolicy(time_step_spec=env.time_step_spec(), \n",
    "                                         action_spec=env.action_spec())\n",
    "replay_buffer = []\n",
    "metric = py_metrics.AverageReturnMetric()\n",
    "observers = [replay_buffer.append, metric]\n",
    "driver = py_driver.PyDriver(\n",
    "    env, policy, observers, max_steps=20, max_episodes=1)\n",
    "\n",
    "initial_time_step = env.reset()\n",
    "final_time_step, _ = driver.run(initial_time_step)\n",
    "\n",
    "print('Replay Buffer:')\n",
    "for traj in replay_buffer:\n",
    "  print(traj)\n",
    "\n",
    "print('Average Return: ', metric.result())"
   ]
  },
  {
   "cell_type": "markdown",
   "metadata": {
    "colab_type": "text",
    "id": "X3Yrxg36Ik1x"
   },
   "source": [
    "# TensorFlow Drivers\n",
    "\n",
    "We also have drivers in TensorFlow which are functionally similar to Python drivers, but use TF environments, TF policies, TF observers etc. We currently have 2 TensorFlow drivers: `DynamicStepDriver`, which terminates after a given number of (valid) environment steps and `DynamicEpisodeDriver`, which terminates after a given number of episodes. Let us look at an example of the DynamicEpisode in action.\n",
    "\n",
    "\n",
    "\n"
   ]
  },
  {
   "cell_type": "code",
   "execution_count": 3,
   "metadata": {
    "colab": {},
    "colab_type": "code",
    "id": "WC4ba3ObSceA"
   },
   "outputs": [
    {
     "name": "stdout",
     "output_type": "stream",
     "text": [
      "final_time_step TimeStep(step_type=<tf.Tensor: shape=(1,), dtype=int32, numpy=array([0])>, reward=<tf.Tensor: shape=(1,), dtype=float32, numpy=array([0.], dtype=float32)>, discount=<tf.Tensor: shape=(1,), dtype=float32, numpy=array([1.], dtype=float32)>, observation=<tf.Tensor: shape=(1, 4), dtype=float32, numpy=\n",
      "array([[ 0.03811324,  0.04237881, -0.01421801,  0.01581222]],\n",
      "      dtype=float32)>)\n",
      "Number of Steps:  31\n",
      "Number of Episodes:  2\n"
     ]
    }
   ],
   "source": [
    "\n",
    "env = suite_gym.load('CartPole-v0')\n",
    "tf_env = tf_py_environment.TFPyEnvironment(env)\n",
    "\n",
    "tf_policy = random_tf_policy.RandomTFPolicy(action_spec=tf_env.action_spec(),\n",
    "                                            time_step_spec=tf_env.time_step_spec())\n",
    "\n",
    "\n",
    "num_episodes = tf_metrics.NumberOfEpisodes()\n",
    "env_steps = tf_metrics.EnvironmentSteps()\n",
    "observers = [num_episodes, env_steps]\n",
    "driver = dynamic_episode_driver.DynamicEpisodeDriver(\n",
    "    tf_env, tf_policy, observers, num_episodes=2)\n",
    "\n",
    "# Initial driver.run will reset the environment and initialize the policy.\n",
    "final_time_step, policy_state = driver.run()\n",
    "\n",
    "print('final_time_step', final_time_step)\n",
    "print('Number of Steps: ', env_steps.result().numpy())\n",
    "print('Number of Episodes: ', num_episodes.result().numpy())"
   ]
  },
  {
   "cell_type": "code",
   "execution_count": 4,
   "metadata": {
    "colab": {},
    "colab_type": "code",
    "id": "Sz5jhHnU0fX1"
   },
   "outputs": [
    {
     "name": "stdout",
     "output_type": "stream",
     "text": [
      "final_time_step TimeStep(step_type=<tf.Tensor: shape=(1,), dtype=int32, numpy=array([0])>, reward=<tf.Tensor: shape=(1,), dtype=float32, numpy=array([0.], dtype=float32)>, discount=<tf.Tensor: shape=(1,), dtype=float32, numpy=array([1.], dtype=float32)>, observation=<tf.Tensor: shape=(1, 4), dtype=float32, numpy=\n",
      "array([[ 0.03427592, -0.01437807, -0.03136515,  0.00396474]],\n",
      "      dtype=float32)>)\n",
      "Number of Steps:  94\n",
      "Number of Episodes:  4\n"
     ]
    }
   ],
   "source": [
    "# Continue running from previous state\n",
    "final_time_step, _ = driver.run(final_time_step, policy_state)\n",
    "\n",
    "print('final_time_step', final_time_step)\n",
    "print('Number of Steps: ', env_steps.result().numpy())\n",
    "print('Number of Episodes: ', num_episodes.result().numpy())"
   ]
  }
 ],
 "metadata": {
  "colab": {
   "collapsed_sections": [],
   "last_runtime": {
    "build_target": "",
    "kind": "local"
   },
   "name": "TF-Agents Drivers Tutorial.ipynb",
   "provenance": [],
   "toc_visible": true,
   "version": "0.3.2"
  },
  "kernelspec": {
   "display_name": "Python 3",
   "language": "python",
   "name": "python3"
  },
  "language_info": {
   "codemirror_mode": {
    "name": "ipython",
    "version": 3
   },
   "file_extension": ".py",
   "mimetype": "text/x-python",
   "name": "python",
   "nbconvert_exporter": "python",
   "pygments_lexer": "ipython3",
   "version": "3.7.4"
  }
 },
 "nbformat": 4,
 "nbformat_minor": 1
}
