{
 "cells": [
  {
   "cell_type": "markdown",
   "metadata": {
    "colab_type": "text",
    "id": "klGNgWREsvQv"
   },
   "source": [
    "##### Copyright 2018 The TF-Agents Authors."
   ]
  },
  {
   "cell_type": "markdown",
   "metadata": {
    "colab_type": "text",
    "id": "lsaQlK8fFQqH"
   },
   "source": [
    "### Get Started\n",
    "<table class=\"tfo-notebook-buttons\" align=\"left\">\n",
    "  <td>\n",
    "    <a target=\"_blank\" href=\"https://colab.research.google.com/github/tensorflow/agents/blob/master/docs/tutorials/6_reinforce_tutorial.ipynb\"><img src=\"https://www.tensorflow.org/images/colab_logo_32px.png\" />Run in Google Colab</a>\n",
    "  </td>\n",
    "  <td>\n",
    "    <a target=\"_blank\" href=\"https://github.com/tensorflow/agents/blob/master/docs/tutorials/6_reinforce_tutorial.ipynb\"><img src=\"https://www.tensorflow.org/images/GitHub-Mark-32px.png\" />View source on GitHub</a>\n",
    "  </td>\n",
    "</table>\n"
   ]
  },
  {
   "cell_type": "markdown",
   "metadata": {
    "colab_type": "text",
    "id": "ZOUOQOrFs3zn"
   },
   "source": [
    "## Introduction"
   ]
  },
  {
   "cell_type": "markdown",
   "metadata": {
    "colab_type": "text",
    "id": "cKOCZlhUgXVK"
   },
   "source": [
    "This example shows how to train a [REINFORCE](http://www-anw.cs.umass.edu/~barto/courses/cs687/williams92simple.pdf) agent on the Cartpole environment using the TF-Agents library, similar to the [DQN tutorial](1_dqn_tutorial.ipynb).\n",
    "\n",
    "![Cartpole environment](images/cartpole.png)\n",
    "\n",
    "We will walk you through all the components in a Reinforcement Learning (RL) pipeline for training, evaluation and data collection.\n"
   ]
  },
  {
   "cell_type": "markdown",
   "metadata": {
    "colab_type": "text",
    "id": "1u9QVVsShC9X"
   },
   "source": [
    "## Setup"
   ]
  },
  {
   "cell_type": "code",
   "execution_count": 1,
   "metadata": {
    "colab": {},
    "colab_type": "code",
    "id": "sMitx5qSgJk1"
   },
   "outputs": [],
   "source": [
    "from __future__ import absolute_import\n",
    "from __future__ import division\n",
    "from __future__ import print_function\n",
    "\n",
    "import base64\n",
    "import imageio\n",
    "import IPython\n",
    "import matplotlib\n",
    "import matplotlib.pyplot as plt\n",
    "import PIL.Image\n",
    "import pyvirtualdisplay\n",
    "\n",
    "import tensorflow as tf\n",
    "\n",
    "from tf_agents.agents.reinforce import reinforce_agent\n",
    "from tf_agents.drivers import dynamic_step_driver\n",
    "from tf_agents.environments import suite_gym\n",
    "from tf_agents.environments import tf_py_environment\n",
    "from tf_agents.eval import metric_utils\n",
    "from tf_agents.metrics import tf_metrics\n",
    "from tf_agents.networks import actor_distribution_network\n",
    "from tf_agents.replay_buffers import tf_uniform_replay_buffer\n",
    "from tf_agents.trajectories import trajectory\n",
    "from tf_agents.utils import common\n",
    "\n",
    "tf.compat.v1.enable_v2_behavior()\n",
    "\n",
    "\n",
    "# Set up a virtual display for rendering OpenAI gym environments.\n",
    "# display = pyvirtualdisplay.Display(visible=0, size=(1400, 900)).start()"
   ]
  },
  {
   "cell_type": "markdown",
   "metadata": {
    "colab_type": "text",
    "id": "LmC0NDhdLIKY"
   },
   "source": [
    "## Hyperparameters"
   ]
  },
  {
   "cell_type": "code",
   "execution_count": 2,
   "metadata": {
    "colab": {},
    "colab_type": "code",
    "id": "HC1kNrOsLSIZ"
   },
   "outputs": [],
   "source": [
    "env_name = \"CartPole-v0\" # @param {type:\"string\"}\n",
    "num_iterations = 250 # @param {type:\"integer\"}\n",
    "collect_episodes_per_iteration = 2 # @param {type:\"integer\"}\n",
    "replay_buffer_capacity = 2000 # @param {type:\"integer\"}\n",
    "\n",
    "fc_layer_params = (100,)\n",
    "\n",
    "learning_rate = 1e-3 # @param {type:\"number\"}\n",
    "log_interval = 25 # @param {type:\"integer\"}\n",
    "num_eval_episodes = 10 # @param {type:\"integer\"}\n",
    "eval_interval = 50 # @param {type:\"integer\"}"
   ]
  },
  {
   "cell_type": "markdown",
   "metadata": {
    "colab_type": "text",
    "id": "VMsJC3DEgI0x"
   },
   "source": [
    "## Environment\n",
    "\n",
    "Environments in RL represent the task or problem that we are trying to solve. Standard environments can be easily created in TF-Agents using `suites`. We have different `suites` for loading environments from sources such as the OpenAI Gym, Atari, DM Control, etc., given a string environment name.\n",
    "\n",
    "Now let us load the CartPole environment from the OpenAI Gym suite."
   ]
  },
  {
   "cell_type": "code",
   "execution_count": 3,
   "metadata": {
    "colab": {},
    "colab_type": "code",
    "id": "pYEz-S9gEv2-"
   },
   "outputs": [],
   "source": [
    "env = suite_gym.load(env_name)"
   ]
  },
  {
   "cell_type": "markdown",
   "metadata": {
    "colab_type": "text",
    "id": "IIHYVBkuvPNw"
   },
   "source": [
    "We can render this environment to see how it looks. A free-swinging pole is attached to a cart.  The goal is to move the cart right or left in order to keep the pole pointing up."
   ]
  },
  {
   "cell_type": "code",
   "execution_count": 4,
   "metadata": {
    "colab": {},
    "colab_type": "code",
    "id": "RlO7WIQHu_7D"
   },
   "outputs": [
    {
     "data": {
      "text/plain": [
       "TimeStep(step_type=array(0), reward=array(0., dtype=float32), discount=array(1., dtype=float32), observation=array([-0.00942499, -0.00049962,  0.02078401, -0.01201597], dtype=float32))"
      ]
     },
     "execution_count": 4,
     "metadata": {},
     "output_type": "execute_result"
    }
   ],
   "source": [
    "#@test {\"skip\": true}\n",
    "env.reset()\n",
    "# PIL.Image.fromarray(env.render())"
   ]
  },
  {
   "cell_type": "markdown",
   "metadata": {
    "colab_type": "text",
    "id": "B9_lskPOey18"
   },
   "source": [
    "The `time_step = environment.step(action)` statement takes `action` in the environment.  The `TimeStep` tuple returned contains the environment's next observation and reward for that action. The `time_step_spec()` and `action_spec()` methods in the environment return the specifications (types, shapes, bounds) of the `time_step` and `action` respectively."
   ]
  },
  {
   "cell_type": "code",
   "execution_count": 5,
   "metadata": {
    "colab": {},
    "colab_type": "code",
    "id": "exDv57iHfwQV"
   },
   "outputs": [
    {
     "name": "stdout",
     "output_type": "stream",
     "text": [
      "Observation Spec:\n",
      "BoundedArraySpec(shape=(4,), dtype=dtype('float32'), name='observation', minimum=[-4.8000002e+00 -3.4028235e+38 -4.1887903e-01 -3.4028235e+38], maximum=[4.8000002e+00 3.4028235e+38 4.1887903e-01 3.4028235e+38])\n",
      "Action Spec:\n",
      "BoundedArraySpec(shape=(), dtype=dtype('int64'), name='action', minimum=0, maximum=1)\n"
     ]
    }
   ],
   "source": [
    "print('Observation Spec:')\n",
    "print(env.time_step_spec().observation)\n",
    "print('Action Spec:')\n",
    "print(env.action_spec())"
   ]
  },
  {
   "cell_type": "markdown",
   "metadata": {
    "colab_type": "text",
    "id": "eJCgJnx3g0yY"
   },
   "source": [
    "So, we see that observation is an array of 4 floats: the position and velocity of the cart, and the angular position and velocity of the pole. Since only two actions are possible (move left or move right), the `action_spec` is a scalar where 0 means \"move left\" and 1 means \"move right.\""
   ]
  },
  {
   "cell_type": "code",
   "execution_count": 6,
   "metadata": {
    "colab": {},
    "colab_type": "code",
    "id": "V2UGR5t_iZX-"
   },
   "outputs": [
    {
     "name": "stdout",
     "output_type": "stream",
     "text": [
      "Time step:\n",
      "TimeStep(step_type=array(0), reward=array(0., dtype=float32), discount=array(1., dtype=float32), observation=array([ 0.02273188, -0.04847667, -0.02208079, -0.02612838], dtype=float32))\n",
      "Next time step:\n",
      "TimeStep(step_type=array(1), reward=array(1., dtype=float32), discount=array(1., dtype=float32), observation=array([ 0.02176234,  0.14695486, -0.02260335, -0.32569546], dtype=float32))\n"
     ]
    }
   ],
   "source": [
    "time_step = env.reset()\n",
    "print('Time step:')\n",
    "print(time_step)\n",
    "\n",
    "action = 1\n",
    "\n",
    "next_time_step = env.step(action)\n",
    "print('Next time step:')\n",
    "print(next_time_step)"
   ]
  },
  {
   "cell_type": "markdown",
   "metadata": {
    "colab_type": "text",
    "id": "zuUqXAVmecTU"
   },
   "source": [
    "Usually we create two environments: one for training and one for evaluation. Most environments are written in pure python, but they can be easily converted to TensorFlow using the `TFPyEnvironment` wrapper. The original environment's API uses numpy arrays, the `TFPyEnvironment` converts these to/from `Tensors` for you to more easily interact with TensorFlow policies and agents.\n"
   ]
  },
  {
   "cell_type": "code",
   "execution_count": 7,
   "metadata": {
    "colab": {},
    "colab_type": "code",
    "id": "Xp-Y4mD6eDhF"
   },
   "outputs": [],
   "source": [
    "train_py_env = suite_gym.load(env_name)\n",
    "eval_py_env = suite_gym.load(env_name)\n",
    "\n",
    "train_env = tf_py_environment.TFPyEnvironment(train_py_env)\n",
    "eval_env = tf_py_environment.TFPyEnvironment(eval_py_env)"
   ]
  },
  {
   "cell_type": "markdown",
   "metadata": {
    "colab_type": "text",
    "id": "E9lW_OZYFR8A"
   },
   "source": [
    "## Agent\n",
    "\n",
    "The algorithm that we use to solve an RL problem is represented as an `Agent`. In addition to the REINFORCE agent, TF-Agents provides standard implementations of a variety of `Agents` such as [DQN](https://storage.googleapis.com/deepmind-media/dqn/DQNNaturePaper.pdf), [DDPG](https://arxiv.org/pdf/1509.02971.pdf), [TD3](https://arxiv.org/pdf/1802.09477.pdf), [PPO](https://arxiv.org/abs/1707.06347) and [SAC](https://arxiv.org/abs/1801.01290).\n",
    "\n",
    "To create a REINFORCE Agent, we first need an `Actor Network` that can learn to predict the action given an observation from the environment.\n",
    "\n",
    "We can easily create an `Actor Network` using the specs of the observations and actions. We can specify the layers in the network which, in this example, is the `fc_layer_params` argument set to a tuple of `ints` representing the sizes of each hidden layer (see the Hyperparameters section above).\n",
    "\n"
   ]
  },
  {
   "cell_type": "code",
   "execution_count": 8,
   "metadata": {
    "colab": {},
    "colab_type": "code",
    "id": "TgkdEPg_muzV"
   },
   "outputs": [],
   "source": [
    "actor_net = actor_distribution_network.ActorDistributionNetwork(\n",
    "    train_env.observation_spec(),\n",
    "    train_env.action_spec(),\n",
    "    fc_layer_params=fc_layer_params)"
   ]
  },
  {
   "cell_type": "markdown",
   "metadata": {
    "colab_type": "text",
    "id": "z62u55hSmviJ"
   },
   "source": [
    "We also need an `optimizer` to train the network we just created, and a `train_step_counter` variable to keep track of how many times the network was updated.\n",
    "\n",
    "\n",
    "\n"
   ]
  },
  {
   "cell_type": "code",
   "execution_count": 9,
   "metadata": {
    "colab": {},
    "colab_type": "code",
    "id": "jbY4yrjTEyc9"
   },
   "outputs": [],
   "source": [
    "optimizer = tf.compat.v1.train.AdamOptimizer(learning_rate=learning_rate)\n",
    "\n",
    "train_step_counter = tf.compat.v2.Variable(0)\n",
    "\n",
    "tf_agent = reinforce_agent.ReinforceAgent(\n",
    "    train_env.time_step_spec(),\n",
    "    train_env.action_spec(),\n",
    "    actor_network=actor_net,\n",
    "    optimizer=optimizer,\n",
    "    normalize_returns=True,\n",
    "    train_step_counter=train_step_counter)\n",
    "tf_agent.initialize()"
   ]
  },
  {
   "cell_type": "markdown",
   "metadata": {
    "colab_type": "text",
    "id": "I0KLrEPwkn5x"
   },
   "source": [
    "## Policies\n",
    "\n",
    "In TF-Agents, policies represent the standard notion of policies in RL: given a `time_step` produce an action or a distribution over actions. The main method is `policy_step = policy.step(time_step)` where `policy_step` is a named tuple `PolicyStep(action, state, info)`.  The `policy_step.action` is the `action` to be applied to the environment, `state` represents the state for stateful (RNN) policies and `info` may contain auxiliary information such as log probabilities of the actions.\n",
    "\n",
    "Agents contain two policies: the main policy that is used for evaluation/deployment (agent.policy) and another policy that is used for data collection (agent.collect_policy)."
   ]
  },
  {
   "cell_type": "code",
   "execution_count": 10,
   "metadata": {
    "colab": {},
    "colab_type": "code",
    "id": "BwY7StuMkuV4"
   },
   "outputs": [],
   "source": [
    "eval_policy = tf_agent.policy\n",
    "collect_policy = tf_agent.collect_policy"
   ]
  },
  {
   "cell_type": "markdown",
   "metadata": {
    "colab_type": "text",
    "id": "94rCXQtbUbXv"
   },
   "source": [
    "## Metrics and Evaluation\n",
    "\n",
    "The most common metric used to evaluate a policy is the average return. The return is the sum of rewards obtained while running a policy in an environment for an episode, and we usually average this over a few episodes. We can compute the average return metric as follows.\n"
   ]
  },
  {
   "cell_type": "code",
   "execution_count": 11,
   "metadata": {
    "colab": {},
    "colab_type": "code",
    "id": "bitzHo5_UbXy"
   },
   "outputs": [],
   "source": [
    "#@test {\"skip\": true}\n",
    "def compute_avg_return(environment, policy, num_episodes=10):\n",
    "\n",
    "  total_return = 0.0\n",
    "  for _ in range(num_episodes):\n",
    "\n",
    "    time_step = environment.reset()\n",
    "    episode_return = 0.0\n",
    "\n",
    "    while not time_step.is_last():\n",
    "      action_step = policy.action(time_step)\n",
    "      time_step = environment.step(action_step.action)\n",
    "      episode_return += time_step.reward\n",
    "    total_return += episode_return\n",
    "\n",
    "  avg_return = total_return / num_episodes\n",
    "  return avg_return.numpy()[0]\n",
    "\n",
    "\n",
    "# Please also see the metrics module for standard implementations of different\n",
    "# metrics."
   ]
  },
  {
   "cell_type": "markdown",
   "metadata": {
    "colab_type": "text",
    "id": "NLva6g2jdWgr"
   },
   "source": [
    "## Replay Buffer\n",
    "\n",
    "In order to keep track of the data collected from the environment, we will use the TFUniformReplayBuffer. This replay buffer is constructed using specs describing the tensors that are to be stored, which can be obtained from the agent using `tf_agent.collect_data_spec`."
   ]
  },
  {
   "cell_type": "code",
   "execution_count": 12,
   "metadata": {
    "colab": {},
    "colab_type": "code",
    "id": "vX2zGUWJGWAl"
   },
   "outputs": [],
   "source": [
    "replay_buffer = tf_uniform_replay_buffer.TFUniformReplayBuffer(\n",
    "    data_spec=tf_agent.collect_data_spec,\n",
    "    batch_size=train_env.batch_size,\n",
    "    max_length=replay_buffer_capacity)"
   ]
  },
  {
   "cell_type": "markdown",
   "metadata": {
    "colab_type": "text",
    "id": "ZGNTDJpZs4NN"
   },
   "source": [
    "For most agents, the `collect_data_spec` is a `Trajectory` named tuple containing the observation, action, reward etc."
   ]
  },
  {
   "cell_type": "markdown",
   "metadata": {
    "colab_type": "text",
    "id": "rVD5nQ9ZGo8_"
   },
   "source": [
    "## Data Collection\n",
    "\n",
    "As REINFORCE learns from whole episodes, we define a function to collect an episode using the given data collection policy and save the data (observations, actions, rewards etc.) as trajectories in the replay buffer."
   ]
  },
  {
   "cell_type": "code",
   "execution_count": 13,
   "metadata": {
    "colab": {},
    "colab_type": "code",
    "id": "wr1KSAEGG4h9"
   },
   "outputs": [],
   "source": [
    "#@test {\"skip\": true}\n",
    "\n",
    "def collect_episode(environment, policy, num_episodes):\n",
    "\n",
    "  episode_counter = 0\n",
    "  environment.reset()\n",
    "\n",
    "  while episode_counter < num_episodes:\n",
    "    time_step = environment.current_time_step()\n",
    "    action_step = policy.action(time_step)\n",
    "    next_time_step = environment.step(action_step.action)\n",
    "    traj = trajectory.from_transition(time_step, action_step, next_time_step)\n",
    "\n",
    "    # Add trajectory to the replay buffer\n",
    "    replay_buffer.add_batch(traj)\n",
    "\n",
    "    if traj.is_boundary():\n",
    "      episode_counter += 1\n",
    "\n",
    "\n",
    "# This loop is so common in RL, that we provide standard implementations of\n",
    "# these. For more details see the drivers module."
   ]
  },
  {
   "cell_type": "markdown",
   "metadata": {
    "colab_type": "text",
    "id": "hBc9lj9VWWtZ"
   },
   "source": [
    "## Training the agent\n",
    "\n",
    "The training loop involves both collecting data from the environment and optimizing the agent's networks. Along the way, we will occasionally evaluate the agent's policy to see how we are doing.\n",
    "\n",
    "The following will take ~3 minutes to run."
   ]
  },
  {
   "cell_type": "code",
   "execution_count": 14,
   "metadata": {
    "colab": {},
    "colab_type": "code",
    "id": "0pTbJ3PeyF-u"
   },
   "outputs": [
    {
     "name": "stdout",
     "output_type": "stream",
     "text": [
      "step = 25: loss = -0.4397810697555542\n",
      "step = 50: loss = 0.14376330375671387\n",
      "step = 50: Average Return = 124.0\n",
      "step = 75: loss = 0.3154420256614685\n",
      "step = 100: loss = -3.2949230670928955\n",
      "step = 100: Average Return = 123.0\n",
      "step = 125: loss = -2.412287473678589\n",
      "step = 150: loss = -1.8920106887817383\n",
      "step = 150: Average Return = 200.0\n",
      "step = 175: loss = 1.0133476257324219\n",
      "step = 200: loss = -4.876644134521484\n",
      "step = 200: Average Return = 200.0\n",
      "step = 225: loss = -4.010781288146973\n",
      "step = 250: loss = -4.892373085021973\n",
      "step = 250: Average Return = 200.0\n"
     ]
    }
   ],
   "source": [
    "#@test {\"skip\": true}\n",
    "try:\n",
    "  %%time\n",
    "except:\n",
    "  pass\n",
    "\n",
    "# (Optional) Optimize by wrapping some of the code in a graph using TF function.\n",
    "tf_agent.train = common.function(tf_agent.train)\n",
    "\n",
    "# Reset the train step\n",
    "tf_agent.train_step_counter.assign(0)\n",
    "\n",
    "# Evaluate the agent's policy once before training.\n",
    "avg_return = compute_avg_return(eval_env, tf_agent.policy, num_eval_episodes)\n",
    "returns = [avg_return]\n",
    "\n",
    "for _ in range(num_iterations):\n",
    "\n",
    "  # Collect a few episodes using collect_policy and save to the replay buffer.\n",
    "  collect_episode(\n",
    "      train_env, tf_agent.collect_policy, collect_episodes_per_iteration)\n",
    "\n",
    "  # Use data from the buffer and update the agent's network.\n",
    "  experience = replay_buffer.gather_all()\n",
    "  train_loss = tf_agent.train(experience)\n",
    "  replay_buffer.clear()\n",
    "\n",
    "  step = tf_agent.train_step_counter.numpy()\n",
    "\n",
    "  if step % log_interval == 0:\n",
    "    print('step = {0}: loss = {1}'.format(step, train_loss.loss))\n",
    "\n",
    "  if step % eval_interval == 0:\n",
    "    avg_return = compute_avg_return(eval_env, tf_agent.policy, num_eval_episodes)\n",
    "    print('step = {0}: Average Return = {1}'.format(step, avg_return))\n",
    "    returns.append(avg_return)"
   ]
  },
  {
   "cell_type": "markdown",
   "metadata": {
    "colab_type": "text",
    "id": "68jNcA_TiJDq"
   },
   "source": [
    "## Visualization\n",
    "\n"
   ]
  },
  {
   "cell_type": "markdown",
   "metadata": {
    "colab_type": "text",
    "id": "aO-LWCdbbOIC"
   },
   "source": [
    "### Plots\n",
    "\n",
    "We can plot return vs global steps to see the performance of our agent. In `Cartpole-v0`, the environment gives a reward of +1 for every time step the pole stays up, and since the maximum number of steps is 200, the maximum possible return is also 200."
   ]
  },
  {
   "cell_type": "code",
   "execution_count": 15,
   "metadata": {
    "colab": {},
    "colab_type": "code",
    "id": "NxtL1mbOYCVO"
   },
   "outputs": [
    {
     "data": {
      "text/plain": [
       "(39.13999919891357, 250)"
      ]
     },
     "execution_count": 15,
     "metadata": {},
     "output_type": "execute_result"
    },
    {
     "data": {
      "image/png": "[encoded data removed]",
      "text/plain": [
       "<Figure size 432x288 with 1 Axes>"
      ]
     },
     "metadata": {
      "needs_background": "light"
     },
     "output_type": "display_data"
    }
   ],
   "source": [
    "#@test {\"skip\": true}\n",
    "\n",
    "steps = range(0, num_iterations + 1, eval_interval)\n",
    "plt.plot(steps, returns)\n",
    "plt.ylabel('Average Return')\n",
    "plt.xlabel('Step')\n",
    "plt.ylim(top=250)"
   ]
  },
  {
   "cell_type": "markdown",
   "metadata": {
    "colab_type": "text",
    "id": "M7-XpPP99Cy7"
   },
   "source": [
    "### Videos"
   ]
  },
  {
   "cell_type": "markdown",
   "metadata": {
    "colab_type": "text",
    "id": "9pGfGxSH32gn"
   },
   "source": [
    "It is helpful to visualize the performance of an agent by rendering the environment at each step. Before we do that, let us first create a function to embed videos in this colab."
   ]
  },
  {
   "cell_type": "code",
   "execution_count": 16,
   "metadata": {
    "colab": {},
    "colab_type": "code",
    "id": "ULaGr8pvOKbl"
   },
   "outputs": [],
   "source": [
    "def embed_mp4(filename):\n",
    "  \"\"\"Embeds an mp4 file in the notebook.\"\"\"\n",
    "  video = open(filename,'rb').read()\n",
    "  b64 = base64.b64encode(video)\n",
    "  tag = '''\n",
    "  <video width=\"640\" height=\"480\" controls>\n",
    "    <source src=\"data:video/mp4;base64,{0}\" type=\"video/mp4\">\n",
    "  Your browser does not support the video tag.\n",
    "  </video>'''.format(b64.decode())\n",
    "\n",
    "  return IPython.display.HTML(tag)"
   ]
  },
  {
   "cell_type": "markdown",
   "metadata": {
    "colab_type": "text",
    "id": "9c_PH-pX4Pr5"
   },
   "source": [
    "The following code visualizes the agent's policy for a few episodes:"
   ]
  },
  {
   "cell_type": "code",
   "execution_count": 17,
   "metadata": {
    "colab": {},
    "colab_type": "code",
    "id": "owOVWB158NlF"
   },
   "outputs": [
    {
     "name": "stderr",
     "output_type": "stream",
     "text": [
      "IMAGEIO FFMPEG_WRITER WARNING: input image is not divisible by macro_block_size=16, resizing from (600, 400) to (608, 400) to ensure video compatibility with most codecs and players. To prevent resizing, make your input image divisible by the macro_block_size or set the macro_block_size to 1 (risking incompatibility).\n"
     ]
    },
    {
     "data": {
      "text/html": [
       "\n",
       "  <video width=\"640\" height=\"480\" controls>\n",
       "    <source src=\"data:video/mp4;base64,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\" type=\"video/mp4\">\n",
       "  Your browser does not support the video tag.\n",
       "  </video>"
      ],
      "text/plain": [
       "<IPython.core.display.HTML object>"
      ]
     },
     "execution_count": 17,
     "metadata": {},
     "output_type": "execute_result"
    }
   ],
   "source": [
    "num_episodes = 3\n",
    "video_filename = 'imageio.mp4'\n",
    "with imageio.get_writer(video_filename, fps=60) as video:\n",
    "  for _ in range(num_episodes):\n",
    "    time_step = eval_env.reset()\n",
    "    video.append_data(eval_py_env.render())\n",
    "    while not time_step.is_last():\n",
    "      action_step = tf_agent.policy.action(time_step)\n",
    "      time_step = eval_env.step(action_step.action)\n",
    "      video.append_data(eval_py_env.render())\n",
    "\n",
    "embed_mp4(video_filename)"
   ]
  }
 ],
 "metadata": {
  "accelerator": "GPU",
  "colab": {
   "collapsed_sections": [],
   "name": "REINFORCE Tutorial.ipynb",
   "provenance": [],
   "toc_visible": true
  },
  "kernelspec": {
   "display_name": "Python 3",
   "language": "python",
   "name": "python3"
  },
  "language_info": {
   "codemirror_mode": {
    "name": "ipython",
    "version": 3
   },
   "file_extension": ".py",
   "mimetype": "text/x-python",
   "name": "python",
   "nbconvert_exporter": "python",
   "pygments_lexer": "ipython3",
   "version": "3.7.4"
  },
  "pycharm": {
   "stem_cell": {
    "cell_type": "raw",
    "metadata": {
     "collapsed": false
    },
    "source": []
   }
  }
 },
 "nbformat": 4,
 "nbformat_minor": 1
}
