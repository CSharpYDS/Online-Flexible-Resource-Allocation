{
 "cells": [
  {
   "cell_type": "code",
   "execution_count": 1,
   "metadata": {},
   "outputs": [],
   "source": [
    "from core.environment import Environment\n",
    "import core.log as log\n",
    "from agents.resource_weighting_agent import ResourceWeightingAgent\n",
    "from agents.task_pricing_agent import TaskPricingAgent\n",
    "from settings.setting import load_environment_settings"
   ]
  },
  {
   "cell_type": "code",
   "execution_count": 2,
   "metadata": {
    "pycharm": {
     "name": "#%%\n"
    }
   },
   "outputs": [],
   "source": [
    "test_env = load_environment_settings('settings/basic_env_setting.json', 1)[0]"
   ]
  },
  {
   "cell_type": "code",
   "execution_count": 3,
   "metadata": {
    "pycharm": {
     "name": "#%%\n"
    }
   },
   "outputs": [],
   "source": [
    "num_agents = 5\n",
    "resource_weighting_agents = [ResourceWeightingAgent('RWA {}'.format(agent_num)) for agent_num in range(num_agents)]\n",
    "task_pricing_agents = [TaskPricingAgent('TPA {}'.format(agent_num)) for agent_num in range(num_agents)]"
   ]
  },
  {
   "cell_type": "code",
   "execution_count": 4,
   "metadata": {
    "pycharm": {
     "name": "#%%\n"
    }
   },
   "outputs": [
    {
     "data": {
      "text/plain": [
       "basic 0 Environment - Time Step: 0, Total Time Steps: 56\n",
       "\tbasic 0 Task - auction time: 53, deadline: 63, storage: 96, computational: 38, results data: 12\n",
       "\tbasic 1 Task - auction time: 43, deadline: 55, storage: 110, computational: 37, results data: 24\n",
       "\tbasic 2 Task - auction time: 32, deadline: 39, storage: 83, computational: 48, results data: 25\n",
       "\tbasic 3 Task - auction time: 10, deadline: 17, storage: 84, computational: 37, results data: 28\n",
       "\tbasic 4 Task - auction time: 36, deadline: 48, storage: 102, computational: 57, results data: 24\n",
       "\tbasic 5 Task - auction time: 10, deadline: 20, storage: 119, computational: 39, results data: 17\n",
       "\tbasic 6 Task - auction time: 6, deadline: 12, storage: 96, computational: 33, results data: 17\n",
       "\tbasic 7 Task - auction time: 17, deadline: 25, storage: 111, computational: 26, results data: 12\n",
       "\tbasic 8 Task - auction time: 13, deadline: 20, storage: 89, computational: 44, results data: 10\n",
       "\tbasic 9 Task - auction time: 4, deadline: 10, storage: 92, computational: 47, results data: 13\n",
       "\tbasic 10 Task - auction time: 33, deadline: 45, storage: 97, computational: 25, results data: 19\n",
       "\tbasic 11 Task - auction time: 43, deadline: 55, storage: 95, computational: 49, results data: 30\n",
       "\tbasic 12 Task - auction time: 47, deadline: 53, storage: 120, computational: 56, results data: 21\n",
       "\tbasic 13 Task - auction time: 51, deadline: 59, storage: 104, computational: 36, results data: 19\n",
       "\tbasic 14 Task - auction time: 51, deadline: 60, storage: 93, computational: 47, results data: 26\n",
       "\tbasic 15 Task - auction time: 45, deadline: 51, storage: 87, computational: 28, results data: 16\n",
       "\tbasic 16 Task - auction time: 7, deadline: 15, storage: 97, computational: 34, results data: 10\n",
       "\tbasic 17 Task - auction time: 56, deadline: 68, storage: 109, computational: 58, results data: 22\n",
       "\tbasic 18 Task - auction time: 23, deadline: 32, storage: 90, computational: 38, results data: 27\n",
       "\tbasic 19 Task - auction time: 25, deadline: 36, storage: 85, computational: 38, results data: 24\n",
       "\tbasic 20 Task - auction time: 42, deadline: 52, storage: 112, computational: 48, results data: 13\n",
       "\tbasic 21 Task - auction time: 25, deadline: 36, storage: 114, computational: 26, results data: 15\n",
       "\tbasic 22 Task - auction time: 11, deadline: 21, storage: 117, computational: 47, results data: 18\n",
       "\tbasic 23 Task - auction time: 18, deadline: 29, storage: 84, computational: 30, results data: 30\n",
       "\tbasic 24 Task - auction time: 52, deadline: 62, storage: 91, computational: 53, results data: 12\n",
       "\tbasic 25 Task - auction time: 24, deadline: 36, storage: 94, computational: 50, results data: 27\n",
       "\tbasic 26 Task - auction time: 2, deadline: 14, storage: 97, computational: 46, results data: 11\n",
       "\tbasic 27 Task - auction time: 41, deadline: 49, storage: 120, computational: 32, results data: 11\n",
       "\tbasic 28 Task - auction time: 28, deadline: 38, storage: 112, computational: 54, results data: 10\n",
       "\n",
       "\t[basic 0 Server - Storage cap: 14, Comp cap: 21, Bandwidth cap: 5, TP agent: TPA 2, RW agent: RWA 1, tasks: \n",
       "\tbasic 1 Server - Storage cap: 17, Comp cap: 22, Bandwidth cap: 12, TP agent: TPA 2, RW agent: RWA 4, tasks: \n",
       "\tbasic 2 Server - Storage cap: 17, Comp cap: 15, Bandwidth cap: 9, TP agent: TPA 1, RW agent: RWA 0, tasks: \n",
       "\tbasic 3 Server - Storage cap: 15, Comp cap: 19, Bandwidth cap: 12, TP agent: TPA 4, RW agent: RWA 0, tasks: \n",
       "\tbasic 4 Server - Storage cap: 17, Comp cap: 22, Bandwidth cap: 6, TP agent: TPA 4, RW agent: RWA 0, tasks: \n",
       "\tbasic 5 Server - Storage cap: 12, Comp cap: 20, Bandwidth cap: 8, TP agent: TPA 3, RW agent: RWA 4, tasks: ]\n"
      ]
     },
     "execution_count": 4,
     "metadata": {},
     "output_type": "execute_result"
    }
   ],
   "source": [
    "test_env.set_agents(resource_weighting_agents, task_pricing_agents)\n",
    "test_env"
   ]
  },
  {
   "cell_type": "code",
   "execution_count": 5,
   "metadata": {
    "pycharm": {
     "name": "#%%\n"
    }
   },
   "outputs": [
    {
     "name": "stdout",
     "output_type": "stream",
     "text": [
      "Environment - Time Step: 0\n",
      "Auction tasks\n",
      "\tbasic 26 Task - auction time: 2, deadline: 14, storage: 97, computational: 46, results data: 11\n",
      "\t\tbasic 0 Server price: 22\n",
      "\t\tbasic 1 Server price: 18\n"
     ]
    },
    {
     "ename": "AttributeError",
     "evalue": "'float' object has no attribute 'shape'",
     "output_type": "error",
     "traceback": [
      "\u001b[1;31m---------------------------------------------------------------------------\u001b[0m",
      "\u001b[1;31mAttributeError\u001b[0m                            Traceback (most recent call last)",
      "\u001b[1;32m<ipython-input-5-ff5afad2600b>\u001b[0m in \u001b[0;36m<module>\u001b[1;34m\u001b[0m\n\u001b[1;32m----> 1\u001b[1;33m \u001b[0mtest_env\u001b[0m\u001b[1;33m.\u001b[0m\u001b[0mstep\u001b[0m\u001b[1;33m(\u001b[0m\u001b[1;33m)\u001b[0m\u001b[1;33m\u001b[0m\u001b[1;33m\u001b[0m\u001b[0m\n\u001b[0m",
      "\u001b[1;32m~\\Documents\\programming_projects\\southampton_uni\\year_3\\online_flexible_resource_allocation\\core\\environment.py\u001b[0m in \u001b[0;36mstep\u001b[1;34m(self)\u001b[0m\n\u001b[0;32m     83\u001b[0m \u001b[1;33m\u001b[0m\u001b[0m\n\u001b[0;32m     84\u001b[0m             \u001b[1;32mfor\u001b[0m \u001b[0mserver\u001b[0m \u001b[1;32min\u001b[0m \u001b[0mself\u001b[0m\u001b[1;33m.\u001b[0m\u001b[0mservers\u001b[0m\u001b[1;33m:\u001b[0m\u001b[1;33m\u001b[0m\u001b[1;33m\u001b[0m\u001b[0m\n\u001b[1;32m---> 85\u001b[1;33m                 \u001b[0mprice\u001b[0m \u001b[1;33m=\u001b[0m \u001b[0mserver\u001b[0m\u001b[1;33m.\u001b[0m\u001b[0mprice_task\u001b[0m\u001b[1;33m(\u001b[0m\u001b[0mtask\u001b[0m\u001b[1;33m,\u001b[0m \u001b[0mself\u001b[0m\u001b[1;33m.\u001b[0m\u001b[0mtime_step\u001b[0m\u001b[1;33m)\u001b[0m\u001b[1;33m\u001b[0m\u001b[1;33m\u001b[0m\u001b[0m\n\u001b[0m\u001b[0;32m     86\u001b[0m                 \u001b[0mlog\u001b[0m\u001b[1;33m.\u001b[0m\u001b[0mdebug\u001b[0m\u001b[1;33m(\u001b[0m\u001b[1;34mf'\\t\\t{server.name} Server price: {price}'\u001b[0m\u001b[1;33m)\u001b[0m\u001b[1;33m\u001b[0m\u001b[1;33m\u001b[0m\u001b[0m\n\u001b[0;32m     87\u001b[0m \u001b[1;33m\u001b[0m\u001b[0m\n",
      "\u001b[1;32m~\\Documents\\programming_projects\\southampton_uni\\year_3\\online_flexible_resource_allocation\\core\\server.py\u001b[0m in \u001b[0;36mprice_task\u001b[1;34m(self, task, time_step)\u001b[0m\n\u001b[0;32m     41\u001b[0m         \u001b[1;32massert\u001b[0m \u001b[0mself\u001b[0m\u001b[1;33m.\u001b[0m\u001b[0mtask_pricing_agent\u001b[0m \u001b[1;32mis\u001b[0m \u001b[1;32mnot\u001b[0m \u001b[1;32mNone\u001b[0m\u001b[1;33m\u001b[0m\u001b[1;33m\u001b[0m\u001b[0m\n\u001b[0;32m     42\u001b[0m \u001b[1;33m\u001b[0m\u001b[0m\n\u001b[1;32m---> 43\u001b[1;33m         \u001b[1;32mreturn\u001b[0m \u001b[0mself\u001b[0m\u001b[1;33m.\u001b[0m\u001b[0mtask_pricing_agent\u001b[0m\u001b[1;33m.\u001b[0m\u001b[0mprice_task\u001b[0m\u001b[1;33m(\u001b[0m\u001b[0mtask\u001b[0m\u001b[1;33m,\u001b[0m \u001b[0mself\u001b[0m\u001b[1;33m.\u001b[0m\u001b[0mtasks\u001b[0m\u001b[1;33m,\u001b[0m \u001b[0mself\u001b[0m\u001b[1;33m,\u001b[0m \u001b[0mtime_step\u001b[0m\u001b[1;33m)\u001b[0m\u001b[1;33m\u001b[0m\u001b[1;33m\u001b[0m\u001b[0m\n\u001b[0m\u001b[0;32m     44\u001b[0m \u001b[1;33m\u001b[0m\u001b[0m\n\u001b[0;32m     45\u001b[0m     \u001b[1;32mdef\u001b[0m \u001b[0mallocate_task\u001b[0m\u001b[1;33m(\u001b[0m\u001b[0mself\u001b[0m\u001b[1;33m,\u001b[0m \u001b[0mtask\u001b[0m\u001b[1;33m,\u001b[0m \u001b[0msecond_min_price\u001b[0m\u001b[1;33m)\u001b[0m\u001b[1;33m:\u001b[0m\u001b[1;33m\u001b[0m\u001b[1;33m\u001b[0m\u001b[0m\n",
      "\u001b[1;32m~\\Documents\\programming_projects\\southampton_uni\\year_3\\online_flexible_resource_allocation\\agents\\task_pricing_agent.py\u001b[0m in \u001b[0;36mprice_task\u001b[1;34m(self, new_task, allocated_tasks, server, time_step, greedy_policy)\u001b[0m\n\u001b[0;32m     58\u001b[0m             \u001b[0maction\u001b[0m \u001b[1;33m=\u001b[0m \u001b[0mrnd\u001b[0m\u001b[1;33m.\u001b[0m\u001b[0mrandint\u001b[0m\u001b[1;33m(\u001b[0m\u001b[1;36m0\u001b[0m\u001b[1;33m,\u001b[0m \u001b[0mself\u001b[0m\u001b[1;33m.\u001b[0m\u001b[0mnum_outputs\u001b[0m\u001b[1;33m)\u001b[0m\u001b[1;33m\u001b[0m\u001b[1;33m\u001b[0m\u001b[0m\n\u001b[0;32m     59\u001b[0m         \u001b[1;32melse\u001b[0m\u001b[1;33m:\u001b[0m\u001b[1;33m\u001b[0m\u001b[1;33m\u001b[0m\u001b[0m\n\u001b[1;32m---> 60\u001b[1;33m             \u001b[0maction_q_values\u001b[0m \u001b[1;33m=\u001b[0m \u001b[0mself\u001b[0m\u001b[1;33m.\u001b[0m\u001b[0mnetwork_model\u001b[0m\u001b[1;33m.\u001b[0m\u001b[0mcall\u001b[0m\u001b[1;33m(\u001b[0m\u001b[0mobservation\u001b[0m\u001b[1;33m)\u001b[0m\u001b[1;33m\u001b[0m\u001b[1;33m\u001b[0m\u001b[0m\n\u001b[0m\u001b[0;32m     61\u001b[0m             \u001b[0maction\u001b[0m \u001b[1;33m=\u001b[0m \u001b[0mnp\u001b[0m\u001b[1;33m.\u001b[0m\u001b[0margmax\u001b[0m\u001b[1;33m(\u001b[0m\u001b[0maction_q_values\u001b[0m\u001b[1;33m)\u001b[0m\u001b[1;33m[\u001b[0m\u001b[1;36m0\u001b[0m\u001b[1;33m]\u001b[0m\u001b[1;33m\u001b[0m\u001b[1;33m\u001b[0m\u001b[0m\n\u001b[0;32m     62\u001b[0m \u001b[1;33m\u001b[0m\u001b[0m\n",
      "\u001b[1;32m~\\Documents\\programming_projects\\southampton_uni\\year_3\\online_flexible_resource_allocation\\agents\\task_pricing_agent.py\u001b[0m in \u001b[0;36mcall\u001b[1;34m(self, inputs, training, mask)\u001b[0m\n\u001b[0;32m     26\u001b[0m \u001b[1;33m\u001b[0m\u001b[0m\n\u001b[0;32m     27\u001b[0m     \u001b[1;32mdef\u001b[0m \u001b[0mcall\u001b[0m\u001b[1;33m(\u001b[0m\u001b[0mself\u001b[0m\u001b[1;33m,\u001b[0m \u001b[0minputs\u001b[0m\u001b[1;33m,\u001b[0m \u001b[0mtraining\u001b[0m\u001b[1;33m=\u001b[0m\u001b[1;32mNone\u001b[0m\u001b[1;33m,\u001b[0m \u001b[0mmask\u001b[0m\u001b[1;33m=\u001b[0m\u001b[1;32mNone\u001b[0m\u001b[1;33m)\u001b[0m\u001b[1;33m:\u001b[0m\u001b[1;33m\u001b[0m\u001b[1;33m\u001b[0m\u001b[0m\n\u001b[1;32m---> 28\u001b[1;33m         \u001b[0mtask_output\u001b[0m \u001b[1;33m=\u001b[0m \u001b[0mself\u001b[0m\u001b[1;33m.\u001b[0m\u001b[0mtask_layer\u001b[0m\u001b[1;33m(\u001b[0m\u001b[0minputs\u001b[0m\u001b[1;33m)\u001b[0m\u001b[1;33m\u001b[0m\u001b[1;33m\u001b[0m\u001b[0m\n\u001b[0m\u001b[0;32m     29\u001b[0m         \u001b[0mrelu_output\u001b[0m \u001b[1;33m=\u001b[0m \u001b[0mself\u001b[0m\u001b[1;33m.\u001b[0m\u001b[0mrelu_layer\u001b[0m\u001b[1;33m(\u001b[0m\u001b[0mtask_output\u001b[0m\u001b[1;33m)\u001b[0m\u001b[1;33m\u001b[0m\u001b[1;33m\u001b[0m\u001b[0m\n\u001b[0;32m     30\u001b[0m         \u001b[1;32mreturn\u001b[0m \u001b[0mself\u001b[0m\u001b[1;33m.\u001b[0m\u001b[0mq_layer\u001b[0m\u001b[1;33m(\u001b[0m\u001b[0mrelu_output\u001b[0m\u001b[1;33m)\u001b[0m\u001b[1;33m\u001b[0m\u001b[1;33m\u001b[0m\u001b[0m\n",
      "\u001b[1;32mc:\\users\\mark\\appdata\\local\\programs\\python\\python37\\lib\\site-packages\\tensorflow_core\\python\\keras\\layers\\wrappers.py\u001b[0m in \u001b[0;36m__call__\u001b[1;34m(self, inputs, initial_state, constants, **kwargs)\u001b[0m\n\u001b[0;32m    559\u001b[0m       \u001b[0madditional_inputs\u001b[0m \u001b[1;33m+=\u001b[0m \u001b[0minitial_state\u001b[0m\u001b[1;33m\u001b[0m\u001b[1;33m\u001b[0m\u001b[0m\n\u001b[0;32m    560\u001b[0m       state_specs = [InputSpec(shape=K.int_shape(state))\n\u001b[1;32m--> 561\u001b[1;33m                      for state in initial_state]\n\u001b[0m\u001b[0;32m    562\u001b[0m       \u001b[0mself\u001b[0m\u001b[1;33m.\u001b[0m\u001b[0mforward_layer\u001b[0m\u001b[1;33m.\u001b[0m\u001b[0mstate_spec\u001b[0m \u001b[1;33m=\u001b[0m \u001b[0mstate_specs\u001b[0m\u001b[1;33m[\u001b[0m\u001b[1;33m:\u001b[0m\u001b[0mnum_states\u001b[0m \u001b[1;33m//\u001b[0m \u001b[1;36m2\u001b[0m\u001b[1;33m]\u001b[0m\u001b[1;33m\u001b[0m\u001b[1;33m\u001b[0m\u001b[0m\n\u001b[0;32m    563\u001b[0m       \u001b[0mself\u001b[0m\u001b[1;33m.\u001b[0m\u001b[0mbackward_layer\u001b[0m\u001b[1;33m.\u001b[0m\u001b[0mstate_spec\u001b[0m \u001b[1;33m=\u001b[0m \u001b[0mstate_specs\u001b[0m\u001b[1;33m[\u001b[0m\u001b[0mnum_states\u001b[0m \u001b[1;33m//\u001b[0m \u001b[1;36m2\u001b[0m\u001b[1;33m:\u001b[0m\u001b[1;33m]\u001b[0m\u001b[1;33m\u001b[0m\u001b[1;33m\u001b[0m\u001b[0m\n",
      "\u001b[1;32mc:\\users\\mark\\appdata\\local\\programs\\python\\python37\\lib\\site-packages\\tensorflow_core\\python\\keras\\layers\\wrappers.py\u001b[0m in \u001b[0;36m<listcomp>\u001b[1;34m(.0)\u001b[0m\n\u001b[0;32m    559\u001b[0m       \u001b[0madditional_inputs\u001b[0m \u001b[1;33m+=\u001b[0m \u001b[0minitial_state\u001b[0m\u001b[1;33m\u001b[0m\u001b[1;33m\u001b[0m\u001b[0m\n\u001b[0;32m    560\u001b[0m       state_specs = [InputSpec(shape=K.int_shape(state))\n\u001b[1;32m--> 561\u001b[1;33m                      for state in initial_state]\n\u001b[0m\u001b[0;32m    562\u001b[0m       \u001b[0mself\u001b[0m\u001b[1;33m.\u001b[0m\u001b[0mforward_layer\u001b[0m\u001b[1;33m.\u001b[0m\u001b[0mstate_spec\u001b[0m \u001b[1;33m=\u001b[0m \u001b[0mstate_specs\u001b[0m\u001b[1;33m[\u001b[0m\u001b[1;33m:\u001b[0m\u001b[0mnum_states\u001b[0m \u001b[1;33m//\u001b[0m \u001b[1;36m2\u001b[0m\u001b[1;33m]\u001b[0m\u001b[1;33m\u001b[0m\u001b[1;33m\u001b[0m\u001b[0m\n\u001b[0;32m    563\u001b[0m       \u001b[0mself\u001b[0m\u001b[1;33m.\u001b[0m\u001b[0mbackward_layer\u001b[0m\u001b[1;33m.\u001b[0m\u001b[0mstate_spec\u001b[0m \u001b[1;33m=\u001b[0m \u001b[0mstate_specs\u001b[0m\u001b[1;33m[\u001b[0m\u001b[0mnum_states\u001b[0m \u001b[1;33m//\u001b[0m \u001b[1;36m2\u001b[0m\u001b[1;33m:\u001b[0m\u001b[1;33m]\u001b[0m\u001b[1;33m\u001b[0m\u001b[1;33m\u001b[0m\u001b[0m\n",
      "\u001b[1;32mc:\\users\\mark\\appdata\\local\\programs\\python\\python37\\lib\\site-packages\\tensorflow_core\\python\\keras\\backend.py\u001b[0m in \u001b[0;36mint_shape\u001b[1;34m(x)\u001b[0m\n\u001b[0;32m   1170\u001b[0m   \"\"\"\n\u001b[0;32m   1171\u001b[0m   \u001b[1;32mtry\u001b[0m\u001b[1;33m:\u001b[0m\u001b[1;33m\u001b[0m\u001b[1;33m\u001b[0m\u001b[0m\n\u001b[1;32m-> 1172\u001b[1;33m     \u001b[0mshape\u001b[0m \u001b[1;33m=\u001b[0m \u001b[0mx\u001b[0m\u001b[1;33m.\u001b[0m\u001b[0mshape\u001b[0m\u001b[1;33m\u001b[0m\u001b[1;33m\u001b[0m\u001b[0m\n\u001b[0m\u001b[0;32m   1173\u001b[0m     \u001b[1;32mif\u001b[0m \u001b[1;32mnot\u001b[0m \u001b[0misinstance\u001b[0m\u001b[1;33m(\u001b[0m\u001b[0mshape\u001b[0m\u001b[1;33m,\u001b[0m \u001b[0mtuple\u001b[0m\u001b[1;33m)\u001b[0m\u001b[1;33m:\u001b[0m\u001b[1;33m\u001b[0m\u001b[1;33m\u001b[0m\u001b[0m\n\u001b[0;32m   1174\u001b[0m       \u001b[0mshape\u001b[0m \u001b[1;33m=\u001b[0m \u001b[0mtuple\u001b[0m\u001b[1;33m(\u001b[0m\u001b[0mshape\u001b[0m\u001b[1;33m.\u001b[0m\u001b[0mas_list\u001b[0m\u001b[1;33m(\u001b[0m\u001b[1;33m)\u001b[0m\u001b[1;33m)\u001b[0m\u001b[1;33m\u001b[0m\u001b[1;33m\u001b[0m\u001b[0m\n",
      "\u001b[1;31mAttributeError\u001b[0m: 'float' object has no attribute 'shape'"
     ]
    }
   ],
   "source": [
    "test_env.step()"
   ]
  }
 ],
 "metadata": {
  "kernelspec": {
   "display_name": "Python 3",
   "language": "python",
   "name": "python3"
  },
  "language_info": {
   "codemirror_mode": {
    "name": "ipython",
    "version": 3
   },
   "file_extension": ".py",
   "mimetype": "text/x-python",
   "name": "python",
   "nbconvert_exporter": "python",
   "pygments_lexer": "ipython3",
   "version": "3.7.3"
  },
  "pycharm": {
   "stem_cell": {
    "cell_type": "raw",
    "metadata": {
     "collapsed": false
    },
    "source": []
   }
  }
 },
 "nbformat": 4,
 "nbformat_minor": 1
}
