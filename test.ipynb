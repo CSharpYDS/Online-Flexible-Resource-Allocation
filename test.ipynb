{
 "cells": [
  {
   "cell_type": "code",
   "execution_count": 10,
   "metadata": {},
   "outputs": [],
   "source": [
    "from core.environment import Environment\n",
    "import core.log as log\n",
    "from agents.resource_weighting_agent import ResourceWeightingAgent\n",
    "from agents.task_pricing_agent import TaskPricingAgent\n",
    "from settings.setting import load_environment_settings"
   ]
  },
  {
   "cell_type": "code",
   "execution_count": 11,
   "metadata": {
    "pycharm": {
     "name": "#%%\n"
    }
   },
   "outputs": [],
   "source": [
    "test_env = load_environment_settings('settings/basic_env_setting.json', 1)[0]"
   ]
  },
  {
   "cell_type": "code",
   "execution_count": 12,
   "metadata": {
    "pycharm": {
     "name": "#%%\n"
    }
   },
   "outputs": [],
   "source": [
    "num_agents = 5\n",
    "resource_weighting_agents = [ResourceWeightingAgent('RWA {}'.format(agent_num)) for agent_num in range(num_agents)]\n",
    "task_pricing_agents = [TaskPricingAgent('TPA {}'.format(agent_num)) for agent_num in range(num_agents)]"
   ]
  },
  {
   "cell_type": "code",
   "execution_count": 15,
   "metadata": {
    "pycharm": {
     "name": "#%%\n"
    }
   },
   "outputs": [
    {
     "name": "stdout",
     "output_type": "stream",
     "text": [
      "basic 0 Environment - Time Step: 0, Total Time Steps: 57\n",
      "\tTask basic 0 - auction time: 57, deadline: 69, storage: 116, computational: 52, results data: 24\n",
      "\tTask basic 1 - auction time: 7, deadline: 13, storage: 104, computational: 49, results data: 29\n",
      "\tTask basic 2 - auction time: 19, deadline: 26, storage: 87, computational: 25, results data: 17\n",
      "\tTask basic 3 - auction time: 18, deadline: 28, storage: 82, computational: 32, results data: 13\n",
      "\tTask basic 4 - auction time: 49, deadline: 57, storage: 111, computational: 54, results data: 30\n",
      "\tTask basic 5 - auction time: 41, deadline: 48, storage: 93, computational: 51, results data: 19\n",
      "\tTask basic 6 - auction time: 45, deadline: 52, storage: 93, computational: 37, results data: 29\n",
      "\tTask basic 7 - auction time: 2, deadline: 13, storage: 90, computational: 25, results data: 22\n",
      "\tTask basic 8 - auction time: 44, deadline: 56, storage: 98, computational: 43, results data: 21\n",
      "\tTask basic 9 - auction time: 42, deadline: 50, storage: 92, computational: 59, results data: 18\n",
      "\tTask basic 10 - auction time: 42, deadline: 53, storage: 109, computational: 58, results data: 17\n",
      "\tTask basic 11 - auction time: 37, deadline: 44, storage: 96, computational: 50, results data: 22\n",
      "\tTask basic 12 - auction time: 49, deadline: 55, storage: 114, computational: 44, results data: 29\n",
      "\tTask basic 13 - auction time: 30, deadline: 42, storage: 103, computational: 44, results data: 18\n",
      "\tTask basic 14 - auction time: 2, deadline: 11, storage: 109, computational: 29, results data: 29\n",
      "\tTask basic 15 - auction time: 9, deadline: 15, storage: 108, computational: 46, results data: 28\n",
      "\tTask basic 16 - auction time: 54, deadline: 65, storage: 80, computational: 60, results data: 12\n",
      "\tTask basic 17 - auction time: 48, deadline: 56, storage: 90, computational: 41, results data: 16\n",
      "\tTask basic 18 - auction time: 12, deadline: 24, storage: 103, computational: 52, results data: 24\n",
      "\tTask basic 19 - auction time: 2, deadline: 9, storage: 83, computational: 54, results data: 10\n",
      "\tTask basic 20 - auction time: 1, deadline: 10, storage: 87, computational: 35, results data: 23\n",
      "\tTask basic 21 - auction time: 55, deadline: 62, storage: 96, computational: 51, results data: 15\n",
      "\tTask basic 22 - auction time: 54, deadline: 60, storage: 106, computational: 47, results data: 10\n",
      "\tTask basic 23 - auction time: 29, deadline: 41, storage: 87, computational: 38, results data: 29\n",
      "\tTask basic 24 - auction time: 17, deadline: 27, storage: 96, computational: 44, results data: 27\n",
      "\tTask basic 25 - auction time: 26, deadline: 37, storage: 104, computational: 60, results data: 15\n",
      "\tTask basic 26 - auction time: 44, deadline: 56, storage: 107, computational: 46, results data: 23\n",
      "\tTask basic 27 - auction time: 11, deadline: 21, storage: 95, computational: 37, results data: 24\n",
      "\tTask basic 28 - auction time: 9, deadline: 17, storage: 95, computational: 34, results data: 19\n",
      "\tTask basic 29 - auction time: 4, deadline: 13, storage: 104, computational: 39, results data: 25\n",
      "\tbasic 0 Server - Storage cap: 11, Computational cap: 23, Bandwidth cap: 8, task pricing agent: TPA 4, resource weighting agent: RWA 2, allocated tasks: \n",
      "basic 1 Server - Storage cap: 12, Computational cap: 24, Bandwidth cap: 10, task pricing agent: TPA 0, resource weighting agent: RWA 1, allocated tasks: \n",
      "basic 2 Server - Storage cap: 15, Computational cap: 20, Bandwidth cap: 5, task pricing agent: TPA 2, resource weighting agent: RWA 4, allocated tasks: \n",
      "basic 3 Server - Storage cap: 10, Computational cap: 22, Bandwidth cap: 5, task pricing agent: TPA 3, resource weighting agent: RWA 3, allocated tasks: \n",
      "basic 4 Server - Storage cap: 14, Computational cap: 16, Bandwidth cap: 10, task pricing agent: TPA 4, resource weighting agent: RWA 3, allocated tasks: \n",
      "basic 5 Server - Storage cap: 18, Computational cap: 16, Bandwidth cap: 12, task pricing agent: TPA 0, resource weighting agent: RWA 3, allocated tasks: \n",
      "\n"
     ]
    }
   ],
   "source": [
    "test_env.set_agents(resource_weighting_agents, task_pricing_agents)\n",
    "test_env"
   ]
  },
  {
   "cell_type": "code",
   "execution_count": null,
   "metadata": {
    "pycharm": {
     "name": "#%%\n"
    }
   },
   "outputs": [],
   "source": [
    "test_env.step()\n"
   ]
  }
 ],
 "metadata": {
  "kernelspec": {
   "display_name": "Python 3",
   "language": "python",
   "name": "python3"
  },
  "language_info": {
   "codemirror_mode": {
    "name": "ipython",
    "version": 3
   },
   "file_extension": ".py",
   "mimetype": "text/x-python",
   "name": "python",
   "nbconvert_exporter": "python",
   "pygments_lexer": "ipython3",
   "version": "3.7.3"
  },
  "pycharm": {
   "stem_cell": {
    "cell_type": "raw",
    "source": [],
    "metadata": {
     "collapsed": false
    }
   }
  }
 },
 "nbformat": 4,
 "nbformat_minor": 1
}