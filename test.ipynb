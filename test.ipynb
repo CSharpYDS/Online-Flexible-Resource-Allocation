{
 "cells": [
  {
   "cell_type": "code",
   "execution_count": 1,
   "metadata": {},
   "outputs": [],
   "source": [
    "from core.environment import OnlineFlexibleResourceAllocationEnv\n",
    "import core.log as log\n",
    "from agents.resource_weighting_agent import ResourceWeightingAgent\n",
    "from agents.task_pricing_agent import TaskPricingAgent\n",
    "from settings.setting import load_environment_settings"
   ]
  },
  {
   "cell_type": "code",
   "execution_count": 2,
   "metadata": {
    "pycharm": {
     "name": "#%%\n"
    }
   },
   "outputs": [],
   "source": [
    "test_env = load_environment_settings('settings/basic_env_setting.json', 1)[0]"
   ]
  },
  {
   "cell_type": "code",
   "execution_count": 3,
   "metadata": {
    "pycharm": {
     "name": "#%%\n"
    }
   },
   "outputs": [],
   "source": [
    "num_agents = 5\n",
    "resource_weighting_agents = [ResourceWeightingAgent('RWA {}'.format(agent_num)) for agent_num in range(num_agents)]\n",
    "task_pricing_agents = [TaskPricingAgent('TPA {}'.format(agent_num)) for agent_num in range(num_agents)]"
   ]
  },
  {
   "cell_type": "code",
   "execution_count": 4,
   "metadata": {
    "pycharm": {
     "name": "#%%\n"
    }
   },
   "outputs": [
    {
     "data": {
      "text/plain": [
       "Basic 0 Environment - Time Step: 0, Total Time Steps: 71\n",
       "\tBasic 0 Task - Stage: Not assigned, Auction time: 3, deadline: 10, storage: 97, comp: 39, results data: 29\n",
       "\tBasic 1 Task - Stage: Not assigned, Auction time: 19, deadline: 26, storage: 94, comp: 40, results data: 18\n",
       "\tBasic 2 Task - Stage: Not assigned, Auction time: 62, deadline: 68, storage: 90, comp: 31, results data: 26\n",
       "\tBasic 3 Task - Stage: Not assigned, Auction time: 60, deadline: 69, storage: 117, comp: 35, results data: 21\n",
       "\tBasic 4 Task - Stage: Not assigned, Auction time: 36, deadline: 45, storage: 94, comp: 58, results data: 23\n",
       "\tBasic 5 Task - Stage: Not assigned, Auction time: 33, deadline: 42, storage: 119, comp: 37, results data: 29\n",
       "\tBasic 6 Task - Stage: Not assigned, Auction time: 1, deadline: 11, storage: 86, comp: 30, results data: 19\n",
       "\tBasic 7 Task - Stage: Not assigned, Auction time: 10, deadline: 16, storage: 85, comp: 35, results data: 29\n",
       "\tBasic 8 Task - Stage: Not assigned, Auction time: 60, deadline: 66, storage: 106, comp: 45, results data: 26\n",
       "\tBasic 9 Task - Stage: Not assigned, Auction time: 68, deadline: 76, storage: 119, comp: 27, results data: 16\n",
       "\tBasic 10 Task - Stage: Not assigned, Auction time: 23, deadline: 33, storage: 94, comp: 59, results data: 21\n",
       "\tBasic 11 Task - Stage: Not assigned, Auction time: 62, deadline: 69, storage: 82, comp: 56, results data: 28\n",
       "\tBasic 12 Task - Stage: Not assigned, Auction time: 19, deadline: 27, storage: 90, comp: 54, results data: 21\n",
       "\tBasic 13 Task - Stage: Not assigned, Auction time: 42, deadline: 50, storage: 93, comp: 25, results data: 18\n",
       "\tBasic 14 Task - Stage: Not assigned, Auction time: 12, deadline: 19, storage: 86, comp: 32, results data: 11\n",
       "\tBasic 15 Task - Stage: Not assigned, Auction time: 15, deadline: 22, storage: 84, comp: 55, results data: 22\n",
       "\tBasic 16 Task - Stage: Not assigned, Auction time: 40, deadline: 47, storage: 103, comp: 50, results data: 17\n",
       "\tBasic 17 Task - Stage: Not assigned, Auction time: 52, deadline: 61, storage: 113, comp: 29, results data: 13\n",
       "\tBasic 18 Task - Stage: Not assigned, Auction time: 71, deadline: 81, storage: 94, comp: 50, results data: 21\n",
       "\tBasic 19 Task - Stage: Not assigned, Auction time: 39, deadline: 46, storage: 116, comp: 32, results data: 23\n",
       "\tBasic 20 Task - Stage: Not assigned, Auction time: 4, deadline: 16, storage: 104, comp: 41, results data: 26\n",
       "\tBasic 21 Task - Stage: Not assigned, Auction time: 30, deadline: 39, storage: 92, comp: 36, results data: 20\n",
       "\tBasic 22 Task - Stage: Not assigned, Auction time: 52, deadline: 58, storage: 117, comp: 32, results data: 19\n",
       "\tBasic 23 Task - Stage: Not assigned, Auction time: 39, deadline: 51, storage: 111, comp: 28, results data: 14\n",
       "\tBasic 24 Task - Stage: Not assigned, Auction time: 14, deadline: 24, storage: 93, comp: 34, results data: 28\n",
       "\tBasic 25 Task - Stage: Not assigned, Auction time: 24, deadline: 34, storage: 111, comp: 29, results data: 22\n",
       "\tBasic 26 Task - Stage: Not assigned, Auction time: 61, deadline: 67, storage: 99, comp: 43, results data: 23\n",
       "\tBasic 27 Task - Stage: Not assigned, Auction time: 20, deadline: 29, storage: 102, comp: 49, results data: 16\n",
       "\tBasic 28 Task - Stage: Not assigned, Auction time: 27, deadline: 34, storage: 85, comp: 32, results data: 28\n",
       "\tBasic 29 Task - Stage: Not assigned, Auction time: 16, deadline: 26, storage: 111, comp: 36, results data: 15\n",
       "\tBasic 30 Task - Stage: Not assigned, Auction time: 65, deadline: 71, storage: 82, comp: 33, results data: 30\n",
       "\tBasic 31 Task - Stage: Not assigned, Auction time: 25, deadline: 32, storage: 87, comp: 47, results data: 24\n",
       "\tBasic 32 Task - Stage: Not assigned, Auction time: 35, deadline: 46, storage: 109, comp: 46, results data: 12\n",
       "\tBasic 33 Task - Stage: Not assigned, Auction time: 38, deadline: 45, storage: 95, comp: 40, results data: 11\n",
       "\tBasic 34 Task - Stage: Not assigned, Auction time: 18, deadline: 27, storage: 88, comp: 25, results data: 23\n",
       "\tBasic 35 Task - Stage: Not assigned, Auction time: 4, deadline: 10, storage: 92, comp: 43, results data: 15\n",
       "\tBasic 36 Task - Stage: Not assigned, Auction time: 21, deadline: 30, storage: 89, comp: 36, results data: 30\n",
       "\tBasic 37 Task - Stage: Not assigned, Auction time: 63, deadline: 75, storage: 120, comp: 41, results data: 27\n",
       "\tBasic 38 Task - Stage: Not assigned, Auction time: 6, deadline: 12, storage: 80, comp: 36, results data: 15\n",
       "\n",
       "\tBasic 0 Server - Storage cap: 321, Comp cap: 27, Bandwidth cap: 23, TP agent: TPA 0, RW agent: RWA 4, Tasks: []\n",
       "\tBasic 1 Server - Storage cap: 418, Comp cap: 26, Bandwidth cap: 21, TP agent: TPA 0, RW agent: RWA 3, Tasks: []\n",
       "\tBasic 2 Server - Storage cap: 330, Comp cap: 21, Bandwidth cap: 16, TP agent: TPA 0, RW agent: RWA 0, Tasks: []\n",
       "\tBasic 3 Server - Storage cap: 436, Comp cap: 23, Bandwidth cap: 23, TP agent: TPA 2, RW agent: RWA 3, Tasks: []\n",
       "\tBasic 4 Server - Storage cap: 337, Comp cap: 17, Bandwidth cap: 21, TP agent: TPA 4, RW agent: RWA 4, Tasks: []\n",
       "\tBasic 5 Server - Storage cap: 448, Comp cap: 30, Bandwidth cap: 16, TP agent: TPA 3, RW agent: RWA 1, Tasks: []\n"
      ]
     },
     "execution_count": 4,
     "metadata": {},
     "output_type": "execute_result"
    }
   ],
   "source": [
    "test_env.set_agents(resource_weighting_agents, task_pricing_agents)\n",
    "test_env"
   ]
  },
  {
   "cell_type": "code",
   "execution_count": 12,
   "metadata": {
    "pycharm": {
     "name": "#%%\n"
    }
   },
   "outputs": [
    {
     "name": "stdout",
     "output_type": "stream",
     "text": [
      "Environment - Time Step: 7\n",
      "Auction tasks\n",
      "\n",
      "Allocate the resources\n",
      "\tServer Basic 0 resource weighting with tasks: [Basic 6]\n",
      "\t\tBasic 6 Task - sending speed 19, required results data - 19 to progress of 1.0\n",
      "\n",
      "\tServer Basic 1 resource weighting with tasks: []\n",
      "\n",
      "\tServer Basic 2 resource weighting with tasks: [Basic 35]\n",
      "\t\tBasic 35 Task - loading speed 16, required loading - 92 to progress of 0.696\n",
      "\n",
      "\tServer Basic 3 resource weighting with tasks: [Basic 20, Basic 38]\n",
      "\t\tBasic 20 Task - loading speed 11.5, required loading - 104 to progress of 0.711\n",
      "\t\tBasic 38 Task - loading speed 11.5, required loading - 80 to progress of 0.226\n",
      "\n",
      "\tServer Basic 4 resource weighting with tasks: [Basic 0]\n",
      "\t\tBasic 0 Task - loading speed 13, required loading - 97 to progress of 1.0\n",
      "\n",
      "\tServer Basic 5 resource weighting with tasks: []\n"
     ]
    }
   ],
   "source": [
    "test_env.step()"
   ]
  }
 ],
 "metadata": {
  "kernelspec": {
   "display_name": "Python 3",
   "language": "python",
   "name": "python3"
  },
  "language_info": {
   "codemirror_mode": {
    "name": "ipython",
    "version": 3
   },
   "file_extension": ".py",
   "mimetype": "text/x-python",
   "name": "python",
   "nbconvert_exporter": "python",
   "pygments_lexer": "ipython3",
   "version": "3.7.3"
  },
  "pycharm": {
   "stem_cell": {
    "cell_type": "raw",
    "source": [],
    "metadata": {
     "collapsed": false
    }
   }
  }
 },
 "nbformat": 4,
 "nbformat_minor": 1
}