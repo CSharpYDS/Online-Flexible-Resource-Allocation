{
 "cells": [
  {
   "cell_type": "code",
   "execution_count": 1,
   "metadata": {
    "pycharm": {
     "is_executing": false
    }
   },
   "outputs": [],
   "source": [
    "%load_ext tensorboard"
   ]
  },
  {
   "cell_type": "code",
   "execution_count": 2,
   "metadata": {
    "pycharm": {
     "is_executing": false,
     "name": "#%%\n"
    }
   },
   "outputs": [],
   "source": [
    "import tensorflow as tf"
   ]
  },
  {
   "cell_type": "code",
   "execution_count": 3,
   "metadata": {
    "pycharm": {
     "is_executing": false,
     "name": "#%%\n"
    }
   },
   "outputs": [
    {
     "data": {
      "text/plain": [
       "ERROR: Failed to launch TensorBoard (exited with 1).\n",
       "Contents of stderr:\n",
       "2020-03-29 13:01:08.990434: W tensorflow/stream_executor/platform/default/dso_loader.cc:55] Could not load dynamic library 'cudart64_101.dll'; dlerror: cudart64_101.dll not found\n",
       "2020-03-29 13:01:09.004649: I tensorflow/stream_executor/cuda/cudart_stub.cc:29] Ignore above cudart dlerror if you do not have a GPU set up on your machine.\n",
       "Traceback (most recent call last):\n",
       "  File \"c:\\users\\mark\\appdata\\local\\programs\\python\\python37\\lib\\runpy.py\", line 193, in _run_module_as_main\n",
       "    \"__main__\", mod_spec)\n",
       "  File \"c:\\users\\mark\\appdata\\local\\programs\\python\\python37\\lib\\runpy.py\", line 85, in _run_code\n",
       "    exec(code, run_globals)\n",
       "  File \"C:\\Users\\Mark\\AppData\\Local\\Programs\\Python\\Python37\\Scripts\\tensorboard.exe\\__main__.py\", line 7, in <module>\n",
       "  File \"c:\\users\\mark\\appdata\\local\\programs\\python\\python37\\lib\\site-packages\\tensorboard\\main.py\", line 75, in run_main\n",
       "    app.run(tensorboard.main, flags_parser=tensorboard.configure)\n",
       "  File \"c:\\users\\mark\\appdata\\local\\programs\\python\\python37\\lib\\site-packages\\absl\\app.py\", line 299, in run\n",
       "    _run_main(main, args)\n",
       "  File \"c:\\users\\mark\\appdata\\local\\programs\\python\\python37\\lib\\site-packages\\absl\\app.py\", line 250, in _run_main\n",
       "    sys.exit(main(argv))\n",
       "  File \"c:\\users\\mark\\appdata\\local\\programs\\python\\python37\\lib\\site-packages\\tensorboard\\program.py\", line 289, in main\n",
       "    return runner(self.flags) or 0\n",
       "  File \"c:\\users\\mark\\appdata\\local\\programs\\python\\python37\\lib\\site-packages\\tensorboard\\program.py\", line 305, in _run_serve_subcommand\n",
       "    server = self._make_server()\n",
       "  File \"c:\\users\\mark\\appdata\\local\\programs\\python\\python37\\lib\\site-packages\\tensorboard\\program.py\", line 409, in _make_server\n",
       "    self.flags, self.plugin_loaders, self.assets_zip_provider\n",
       "  File \"c:\\users\\mark\\appdata\\local\\programs\\python\\python37\\lib\\site-packages\\tensorboard\\backend\\application.py\", line 184, in standard_tensorboard_wsgi\n",
       "    flags, plugin_loaders, data_provider, assets_zip_provider, multiplexer\n",
       "  File \"c:\\users\\mark\\appdata\\local\\programs\\python\\python37\\lib\\site-packages\\tensorboard\\backend\\application.py\", line 265, in TensorBoardWSGIApp\n",
       "    tbplugins, flags.path_prefix, data_provider, experimental_plugins\n",
       "  File \"c:\\users\\mark\\appdata\\local\\programs\\python\\python37\\lib\\site-packages\\tensorboard\\backend\\application.py\", line 338, in __init__\n",
       "    \"Duplicate plugins for name %s\" % plugin.plugin_name\n",
       "ValueError: Duplicate plugins for name projector"
      ]
     },
     "metadata": {},
     "output_type": "display_data"
    }
   ],
   "source": [
    "%tensorboard --logdir logs"
   ]
  }
 ],
 "metadata": {
  "kernelspec": {
   "display_name": "Python 3",
   "language": "python",
   "name": "python3"
  },
  "language_info": {
   "codemirror_mode": {
    "name": "ipython",
    "version": 3
   },
   "file_extension": ".py",
   "mimetype": "text/x-python",
   "name": "python",
   "nbconvert_exporter": "python",
   "pygments_lexer": "ipython3",
   "version": "3.7.3"
  },
  "pycharm": {
   "stem_cell": {
    "cell_type": "raw",
    "metadata": {
     "collapsed": false
    },
    "source": []
   }
  }
 },
 "nbformat": 4,
 "nbformat_minor": 1
}
